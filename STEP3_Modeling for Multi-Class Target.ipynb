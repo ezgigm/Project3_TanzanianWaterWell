{
 "cells": [
  {
   "cell_type": "code",
   "execution_count": 2,
   "metadata": {},
   "outputs": [],
   "source": [
    "# importing necessary libraries\n",
    "\n",
    "import matplotlib.pyplot as plt\n",
    "import seaborn as sns; sns.set()\n",
    "%matplotlib inline\n",
    "\n",
    "import pandas as pd\n",
    "import numpy as np\n",
    "\n",
    "from sklearn.tree import DecisionTreeClassifier\n",
    "from sklearn.ensemble import RandomForestClassifier, ExtraTreesClassifier\n",
    "from sklearn.linear_model import LogisticRegression\n",
    "from sklearn.preprocessing import KBinsDiscretizer, FunctionTransformer,RobustScaler\n",
    "from sklearn.model_selection import cross_val_score\n",
    "from category_encoders import OneHotEncoder\n",
    "from sklearn.pipeline import make_pipeline, Pipeline\n",
    "\n",
    "from sklearn.model_selection import GridSearchCV, train_test_split\n",
    "from sklearn.metrics import roc_auc_score\n",
    "\n",
    "from sklearn.datasets import make_classification\n",
    "from sklearn.model_selection import train_test_split, GridSearchCV\n",
    "\n",
    "import warnings\n",
    "warnings.filterwarnings(\"ignore\")\n",
    "\n",
    "import category_encoders as ce\n",
    "from category_encoders import WOEEncoder\n",
    "from sklearn.metrics import accuracy_score, balanced_accuracy_score\n",
    "from sklearn.metrics import confusion_matrix\n",
    "from sklearn.metrics import classification_report\n",
    "\n",
    "from sklearn.compose import ColumnTransformer\n",
    "from category_encoders import TargetEncoder, LeaveOneOutEncoder, JamesSteinEncoder, MEstimateEncoder\n",
    "\n",
    "from mlxtend.evaluate import confusion_matrix\n",
    "from mlxtend.plotting import plot_confusion_matrix\n",
    "from mlxtend.plotting import plot_decision_regions\n",
    "from sklearn.preprocessing import MinMaxScaler\n",
    "from mlxtend.evaluate import feature_importance_permutation\n",
    "from sklearn.experimental import enable_hist_gradient_boosting \n",
    "from sklearn.ensemble import AdaBoostClassifier, GradientBoostingClassifier, HistGradientBoostingClassifier\n",
    "\n",
    "from sklearn.svm import SVC"
   ]
  },
  {
   "cell_type": "code",
   "execution_count": 19,
   "metadata": {},
   "outputs": [],
   "source": [
    "df = pd.read_csv('clean_data.csv')"
   ]
  },
  {
   "cell_type": "code",
   "execution_count": 20,
   "metadata": {},
   "outputs": [],
   "source": [
    "pd.options.display.max_columns=100 # to see all columns"
   ]
  },
  {
   "cell_type": "code",
   "execution_count": 21,
   "metadata": {},
   "outputs": [],
   "source": [
    "df.drop(columns=['Unnamed: 0','funder','installer','construction_year'],inplace=True )"
   ]
  },
  {
   "cell_type": "code",
   "execution_count": 193,
   "metadata": {},
   "outputs": [],
   "source": [
    "df1 = df.copy()"
   ]
  },
  {
   "cell_type": "code",
   "execution_count": 194,
   "metadata": {},
   "outputs": [],
   "source": [
    "df1.drop(columns=['lga','ward'],inplace=True ) "
   ]
  },
  {
   "cell_type": "code",
   "execution_count": 195,
   "metadata": {},
   "outputs": [],
   "source": [
    "df1['permit'] = df1['permit'].astype(bool).astype(int)"
   ]
  },
  {
   "cell_type": "code",
   "execution_count": 196,
   "metadata": {},
   "outputs": [],
   "source": [
    "df1['public_meeting'] = df1['public_meeting'].astype(bool).astype(int)"
   ]
  },
  {
   "cell_type": "code",
   "execution_count": 197,
   "metadata": {},
   "outputs": [],
   "source": [
    "cat_col = ['basin','region','extraction_type_group','management','payment','water_quality','quantity',\n",
    "               'source','waterpoint_type','decade','installer_cat','funder_cat']"
   ]
  },
  {
   "cell_type": "code",
   "execution_count": 198,
   "metadata": {},
   "outputs": [],
   "source": [
    "num_col = ['gps_height','longitude','latitude','district_code','population','public_meeting','permit']"
   ]
  },
  {
   "cell_type": "code",
   "execution_count": 55,
   "metadata": {},
   "outputs": [
    {
     "data": {
      "text/plain": [
       "0    32259\n",
       "2    22824\n",
       "1     4317\n",
       "Name: status_group, dtype: int64"
      ]
     },
     "execution_count": 55,
     "metadata": {},
     "output_type": "execute_result"
    }
   ],
   "source": [
    "df['status_group'].value_counts()"
   ]
  },
  {
   "cell_type": "code",
   "execution_count": 56,
   "metadata": {},
   "outputs": [
    {
     "data": {
      "text/plain": [
       "array([0, 2, 1])"
      ]
     },
     "execution_count": 56,
     "metadata": {},
     "output_type": "execute_result"
    }
   ],
   "source": [
    "df[target].unique()"
   ]
  },
  {
   "cell_type": "code",
   "execution_count": 12,
   "metadata": {},
   "outputs": [],
   "source": [
    "# target_status_group = {0:1, 1: 1, 2 : 0}\n",
    "# df1['status_group'] = df1['status_group'].replace(target_status_group)"
   ]
  },
  {
   "cell_type": "code",
   "execution_count": 199,
   "metadata": {},
   "outputs": [],
   "source": [
    "target='status_group'"
   ]
  },
  {
   "cell_type": "code",
   "execution_count": 200,
   "metadata": {},
   "outputs": [],
   "source": [
    "used_cols = [c for c in df1.columns.tolist() if c not in [target]]\n",
    "X=df1[used_cols]\n",
    "y=df1[target]"
   ]
  },
  {
   "cell_type": "code",
   "execution_count": 103,
   "metadata": {},
   "outputs": [],
   "source": [
    "X_train, X_test, y_train, y_test = train_test_split(X, y, test_size=0.2, random_state=42)"
   ]
  },
  {
   "cell_type": "code",
   "execution_count": 62,
   "metadata": {},
   "outputs": [
    {
     "name": "stdout",
     "output_type": "stream",
     "text": [
      "Accuracy:\n",
      "=========\n",
      "TRAIN: 0.9201599326599327\n",
      "TEST: 0.7961279461279461\n",
      "\n",
      "Balanced Accuracy:\n",
      "==================\n",
      "TRAIN: 0.932632310756815\n",
      "TEST: 0.7123422369073463\n"
     ]
    }
   ],
   "source": [
    "scaler=RobustScaler()\n",
    "encoder = ce.TargetEncoder(cols=cat_col)\n",
    "\n",
    "# putting numeric columns to scaler and categorical to encoder\n",
    "num_transformer = make_pipeline(scaler)\n",
    "cat_transformer = make_pipeline(encoder)\n",
    "\n",
    "# getting together our scaler and encoder with preprocessor\n",
    "preprocessor = ColumnTransformer(\n",
    "      transformers=[('num', num_transformer, num_col),\n",
    "                    ('cat', cat_transformer, cat_col)])\n",
    "\n",
    "rf = RandomForestClassifier(n_estimators=100, random_state=42, n_jobs=-1,\n",
    "                            criterion= 'entropy',max_features= 'sqrt',\n",
    "                             min_samples_split= 10,class_weight='balanced')\n",
    "# lr = LogisticRegression(class_weight='balanced', random_state=42, C=100.0)\n",
    "# # giving all values to pipeline\n",
    "\n",
    "\n",
    " \n",
    "\n",
    "pipe = make_pipeline(preprocessor,rf)\n",
    "\n",
    "# # scores = cross_val_score(pipe, X, y, cv=5, scoring='roc_auc')\n",
    "# # print(scores.mean(), \"+/-\", scores.std()) \n",
    "pipe.fit(X_train,y_train)\n",
    "y_pred = pipe.predict(X_train)\n",
    "\n",
    "# make predictions on test set\n",
    "y_score = pipe.predict(X_test)\n",
    "\n",
    "# to print the results in good way\n",
    "print(\"Accuracy:\"); print(\"=\"*len(\"Accuracy:\"))\n",
    "print(f\"TRAIN: {accuracy_score(y_train, y_pred)}\")\n",
    "print(f\"TEST: {accuracy_score(y_test, y_score)}\")\n",
    "\n",
    "print(\"\\nBalanced Accuracy:\"); print(\"=\"*len(\"Balanced Accuracy:\"))\n",
    "print(f\"TRAIN: {balanced_accuracy_score(y_train, y_pred)}\")\n",
    "print(f\"TEST: {balanced_accuracy_score(y_test, y_score)}\")\n"
   ]
  },
  {
   "cell_type": "code",
   "execution_count": 61,
   "metadata": {},
   "outputs": [
    {
     "data": {
      "image/png": "[encoded data removed]",
      "text/plain": [
       "<Figure size 432x288 with 1 Axes>"
      ]
     },
     "metadata": {
      "needs_background": "light"
     },
     "output_type": "display_data"
    }
   ],
   "source": [
    "cm = confusion_matrix(y_test, y_score)\n",
    "plot_confusion_matrix(cm)\n",
    "plt.show()"
   ]
  },
  {
   "cell_type": "code",
   "execution_count": 63,
   "metadata": {},
   "outputs": [],
   "source": [
    "import xgboost as xgb\n",
    "from xgboost import XGBClassifier"
   ]
  },
  {
   "cell_type": "code",
   "execution_count": 64,
   "metadata": {},
   "outputs": [
    {
     "name": "stdout",
     "output_type": "stream",
     "text": [
      "Accuracy:\n",
      "=========\n",
      "TRAIN: 0.9133627946127946\n",
      "TEST: 0.8122053872053872\n",
      "\n",
      "Balanced Accuracy:\n",
      "==================\n",
      "TRAIN: 0.8180722039514005\n",
      "TEST: 0.6561393682677205\n"
     ]
    },
    {
     "data": {
      "image/png": "[encoded data removed]",
      "text/plain": [
       "<Figure size 432x288 with 1 Axes>"
      ]
     },
     "metadata": {
      "needs_background": "light"
     },
     "output_type": "display_data"
    }
   ],
   "source": [
    "xgb = XGBClassifier(objective = 'multi:softmax', booster = 'gbtree', nrounds = 'min.error.idx',\n",
    "                      num_class = 3, maximize = False, eval_metric = 'merror', eta = .1,\n",
    "                      max_depth = 12, colsample_bytree = .4, learning_rate = 0.1)\n",
    "\n",
    "pipe = make_pipeline(preprocessor,xgb)\n",
    "pipe.fit(X_train, y_train)\n",
    "\n",
    "\n",
    "# make predictions on training set\n",
    "y_pred = pipe.predict(X_train)\n",
    "\n",
    "# make predictions on test set\n",
    "y_score = pipe.predict(X_test)\n",
    "\n",
    "# to print the results in good way\n",
    "print(\"Accuracy:\"); print(\"=\"*len(\"Accuracy:\"))\n",
    "print(f\"TRAIN: {accuracy_score(y_train, y_pred)}\")\n",
    "print(f\"TEST: {accuracy_score(y_test, y_score)}\")\n",
    "\n",
    "print(\"\\nBalanced Accuracy:\"); print(\"=\"*len(\"Balanced Accuracy:\"))\n",
    "print(f\"TRAIN: {balanced_accuracy_score(y_train, y_pred)}\")\n",
    "print(f\"TEST: {balanced_accuracy_score(y_test, y_score)}\")\n",
    "\n",
    "\n",
    "cm = confusion_matrix(y_test, y_score)\n",
    "plot_confusion_matrix(cm)\n",
    "plt.show()"
   ]
  },
  {
   "cell_type": "code",
   "execution_count": 68,
   "metadata": {},
   "outputs": [],
   "source": [
    "from imblearn.over_sampling import SMOTE"
   ]
  },
  {
   "cell_type": "code",
   "execution_count": 120,
   "metadata": {},
   "outputs": [],
   "source": [
    "from sklearn import preprocessing"
   ]
  },
  {
   "cell_type": "code",
   "execution_count": 201,
   "metadata": {},
   "outputs": [],
   "source": [
    "df4=df1.copy()"
   ]
  },
  {
   "cell_type": "code",
   "execution_count": 202,
   "metadata": {},
   "outputs": [],
   "source": [
    "encoder = TargetEncoder()\n",
    "\n",
    "for c in cat_col:\n",
    "    df4[str(c) + '_encoded'] = encoder.fit_transform(df4[c].values, df4[target])\n",
    "    df4.drop(columns=c, inplace=True) "
   ]
  },
  {
   "cell_type": "code",
   "execution_count": 203,
   "metadata": {},
   "outputs": [],
   "source": [
    "scaler = preprocessing.RobustScaler()\n",
    "\n",
    "\n",
    "def scaleColumns(df, num_col):\n",
    "    for col in num_col:\n",
    "        df[col] = pd.DataFrame(scaler.fit_transform(pd.DataFrame(df3[col])),columns=[col])\n",
    "    return df\n",
    "\n",
    "scaled_df = scaleColumns(df3,[num_col])\n",
    "\n",
    "# def scaleColumns(df, cols_to_scale):\n",
    "#     for col in cols_to_scale:\n",
    "#         df[col] = pd.DataFrame(min_max_scaler.fit_transform(pd.DataFrame(dfTest[col])),columns=[col])\n",
    "#     return df"
   ]
  },
  {
   "cell_type": "code",
   "execution_count": 204,
   "metadata": {},
   "outputs": [],
   "source": [
    "used_cols = [c for c in scaled_df.columns.tolist() if c not in [target]]\n",
    "X=scaled_df[used_cols]\n",
    "y=scaled_df[target]\n"
   ]
  },
  {
   "cell_type": "code",
   "execution_count": 205,
   "metadata": {},
   "outputs": [],
   "source": [
    "X_train, X_test, y_train, y_test = train_test_split(X, y, test_size=0.2, random_state=42)"
   ]
  },
  {
   "cell_type": "code",
   "execution_count": 143,
   "metadata": {},
   "outputs": [
    {
     "name": "stdout",
     "output_type": "stream",
     "text": [
      "0.0    25802\n",
      "1.0    18252\n",
      "0.5     3466\n",
      "Name: status_group, dtype: int64\n",
      "1.0    25802\n",
      "0.5    25802\n",
      "0.0    25802\n",
      "dtype: int64\n"
     ]
    }
   ],
   "source": [
    "smote_train = SMOTE(sampling_strategy = 'auto', n_jobs = -1)\n",
    "X_train_resampled, y_train_resampled = smote_train.fit_sample(X_train, y_train)\n",
    "print(y_train.value_counts())\n",
    "np = y_train_resampled\n",
    "new_series = pd.Series(np)\n",
    "\n",
    "print(new_series.value_counts())"
   ]
  },
  {
   "cell_type": "code",
   "execution_count": 180,
   "metadata": {},
   "outputs": [],
   "source": [
    "clf_xg = XGBClassifier(objective = 'multi:softmax', booster = 'gbtree', nrounds = 'min.error.idx',\n",
    "                      num_class = 3, maximize = False, eval_metric = 'merror', eta = .1,\n",
    "                      max_depth = 16, colsample_bytree = .4, n_jobs = -1)\n",
    "# scores = cross_val_score(clf_xg, X_train_resampled, new_series, cv=5, scoring='accuracy')\n",
    "# print(scores.mean(), '+/-', scores.std())"
   ]
  },
  {
   "cell_type": "code",
   "execution_count": 146,
   "metadata": {},
   "outputs": [
    {
     "data": {
      "text/plain": [
       "XGBClassifier(base_score=0.5, booster='gbtree', colsample_bylevel=1,\n",
       "              colsample_bytree=0.4, eta=0.1, eval_metric='merror', gamma=0,\n",
       "              learning_rate=0.1, max_delta_step=0, max_depth=16, maximize=False,\n",
       "              min_child_weight=1, missing=None, n_estimators=100, n_jobs=-1,\n",
       "              nrounds='min.error.idx', nthread=None, num_class=3,\n",
       "              objective='multi:softprob', random_state=0, reg_alpha=0,\n",
       "              reg_lambda=1, scale_pos_weight=1, seed=None, silent=True,\n",
       "              subsample=1)"
      ]
     },
     "execution_count": 146,
     "metadata": {},
     "output_type": "execute_result"
    }
   ],
   "source": [
    "clf_xg.fit(X_train_resampled, new_series)"
   ]
  },
  {
   "cell_type": "code",
   "execution_count": 93,
   "metadata": {},
   "outputs": [
    {
     "name": "stdout",
     "output_type": "stream",
     "text": [
      "Accuracy Score:  0.9736842105263158\n"
     ]
    },
    {
     "data": {
      "image/png": "[encoded data removed]",
      "text/plain": [
       "<Figure size 432x288 with 1 Axes>"
      ]
     },
     "metadata": {
      "needs_background": "light"
     },
     "output_type": "display_data"
    }
   ],
   "source": [
    "preds_train_resampled = clf_xg.predict(X_train_resampled)\n",
    "# preds_test_resampled = clf_xg.predict(X_test_resampled)\n",
    "# preds_train = clf_xg.predict(X_train)\n",
    "# preds_test = clf_xg.predict(X_test)\n",
    "y_score = pipe.predict(X_test)\n",
    "print(\"Accuracy Score train: \", accuracy_score(new_series, preds_train_resampled))\n",
    "cm = confusion_matrix(new_series, preds_train_resampled)\n",
    "plot_confusion_matrix(cm)\n",
    "plt.show()\n"
   ]
  },
  {
   "cell_type": "code",
   "execution_count": 94,
   "metadata": {},
   "outputs": [
    {
     "name": "stdout",
     "output_type": "stream",
     "text": [
      "Balanced Accuracy Score:  0.9736842105263158\n"
     ]
    }
   ],
   "source": [
    "print(\"Balanced Accuracy Score: \", balanced_accuracy_score(new_series, preds_train_resampled))\n"
   ]
  },
  {
   "cell_type": "code",
   "execution_count": 182,
   "metadata": {},
   "outputs": [
    {
     "name": "stdout",
     "output_type": "stream",
     "text": [
      "0    32259\n",
      "2    22824\n",
      "1     4317\n",
      "Name: status_group, dtype: int64\n",
      "2    32259\n",
      "1    32259\n",
      "0    32259\n",
      "dtype: int64\n"
     ]
    }
   ],
   "source": [
    "smote = SMOTE(sampling_strategy = 'auto', n_jobs = -1)\n",
    "X_resampled, y_resampled = smote.fit_sample(X, y)\n",
    "print(y.value_counts())\n",
    "\n",
    "y_resample = pd.Series(y_resampled)\n",
    "\n",
    "print(y_resample.value_counts())"
   ]
  },
  {
   "cell_type": "code",
   "execution_count": 189,
   "metadata": {},
   "outputs": [],
   "source": [
    "X_train, X_test, y_train, y_test = train_test_split(X_resampled, y_resample, test_size=0.2, random_state=42)"
   ]
  },
  {
   "cell_type": "code",
   "execution_count": null,
   "metadata": {},
   "outputs": [],
   "source": [
    "XGBClassifier()"
   ]
  },
  {
   "cell_type": "code",
   "execution_count": 192,
   "metadata": {},
   "outputs": [
    {
     "name": "stdout",
     "output_type": "stream",
     "text": [
      "Accuracy:\n",
      "=========\n",
      "TRAIN: 0.9520931013549295\n",
      "TEST: 0.8599400702624509\n",
      "\n",
      "Balanced Accuracy:\n",
      "==================\n",
      "TRAIN: 0.9521035519751783\n",
      "TEST: 0.8599018223915921\n"
     ]
    }
   ],
   "source": [
    "clf_xg = XGBClassifier(objective = 'multi:softmax', booster = 'gbtree', nrounds = 'min.error.idx',\n",
    "                      num_class = 3, maximize = False, eval_metric = 'merror', eta = .1,\n",
    "                      max_depth = 16, colsample_bytree = .4, n_jobs = -1,learning_rate = 0.1,\n",
    "                      early_stopping_rounds=10)\n",
    "\n",
    "# clf_xg = XGBClassifier(objective = 'multi:softmax', booster = 'gbtree', nrounds = 'min.error.idx',\n",
    "#                       num_class = 3, maximize = False, eval_metric = 'merror', eta = .2,\n",
    "#                       max_depth = 14, colsample_bytree = .4, n_jobs = -1,learning_rate = 0.1,\n",
    "#                       early_stopping_rounds=10)\n",
    "clf_xg.fit(X_train, y_train)\n",
    "\n",
    "\n",
    "# make predictions on training set\n",
    "y_pred = clf_xg.predict(X_train)\n",
    "\n",
    "# make predictions on test set\n",
    "y_score = clf_xg.predict(X_test)\n",
    "\n",
    "# to print the results in good way\n",
    "print(\"Accuracy:\"); print(\"=\"*len(\"Accuracy:\"))\n",
    "print(f\"TRAIN: {accuracy_score(y_train, y_pred)}\")\n",
    "print(f\"TEST: {accuracy_score(y_test, y_score)}\")\n",
    "\n",
    "print(\"\\nBalanced Accuracy:\"); print(\"=\"*len(\"Balanced Accuracy:\"))\n",
    "print(f\"TRAIN: {balanced_accuracy_score(y_train, y_pred)}\")\n",
    "print(f\"TEST: {balanced_accuracy_score(y_test, y_score)}\")\n"
   ]
  },
  {
   "cell_type": "code",
   "execution_count": 186,
   "metadata": {},
   "outputs": [
    {
     "data": {
      "image/png": "[encoded data removed]",
      "text/plain": [
       "<Figure size 432x288 with 1 Axes>"
      ]
     },
     "metadata": {
      "needs_background": "light"
     },
     "output_type": "display_data"
    }
   ],
   "source": [
    "cm = confusion_matrix(y_test, y_score)\n",
    "plot_confusion_matrix(cm)\n",
    "plt.show()\n"
   ]
  },
  {
   "cell_type": "code",
   "execution_count": 104,
   "metadata": {},
   "outputs": [],
   "source": [
    "from sklearn.model_selection import RepeatedStratifiedKFold"
   ]
  },
  {
   "cell_type": "code",
   "execution_count": 114,
   "metadata": {},
   "outputs": [],
   "source": [
    "from sklearn.neighbors import KNeighborsClassifier"
   ]
  }
 ],
 "metadata": {
  "kernelspec": {
   "display_name": "Python 3",
   "language": "python",
   "name": "python3"
  },
  "language_info": {
   "codemirror_mode": {
    "name": "ipython",
    "version": 3
   },
   "file_extension": ".py",
   "mimetype": "text/x-python",
   "name": "python",
   "nbconvert_exporter": "python",
   "pygments_lexer": "ipython3",
   "version": "3.6.9"
  }
 },
 "nbformat": 4,
 "nbformat_minor": 2
}
