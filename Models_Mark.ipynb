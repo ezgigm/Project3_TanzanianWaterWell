{
 "cells": [
  {
   "cell_type": "code",
   "execution_count": 42,
   "metadata": {},
   "outputs": [],
   "source": [
    "import matplotlib.pyplot as plt\n",
    "import seaborn as sns; sns.set()\n",
    "%matplotlib inline\n",
    "\n",
    "import pandas as pd\n",
    "import numpy as np\n",
    "\n",
    "from sklearn.tree import DecisionTreeClassifier\n",
    "from sklearn.ensemble import RandomForestClassifier, ExtraTreesClassifier\n",
    "from sklearn.linear_model import LogisticRegression\n",
    "from sklearn.preprocessing import KBinsDiscretizer, FunctionTransformer\n",
    "from sklearn.model_selection import cross_val_score\n",
    "from category_encoders import OneHotEncoder\n",
    "from sklearn.pipeline import make_pipeline, Pipeline\n",
    "\n",
    "from sklearn.model_selection import GridSearchCV, train_test_split\n",
    "from sklearn.metrics import roc_auc_score\n",
    "\n",
    "from sklearn.datasets import make_classification\n",
    "from sklearn.model_selection import train_test_split, GridSearchCV\n",
    "\n",
    "from mlxtend.evaluate import feature_importance_permutation\n",
    "\n",
    "from mlxtend.plotting import plot_pca_correlation_graph\n",
    "\n",
    "\n",
    "from sklearn.tree import export_graphviz\n",
    "import graphviz\n",
    "\n",
    "from sklearn.tree._tree import TREE_LEAF\n",
    "\n",
    "import warnings\n",
    "warnings.filterwarnings(\"ignore\")"
   ]
  },
  {
   "cell_type": "code",
   "execution_count": 43,
   "metadata": {},
   "outputs": [],
   "source": [
    "import category_encoders as ce\n",
    "from category_encoders import WOEEncoder\n",
    "from sklearn.metrics import accuracy_score, balanced_accuracy_score\n",
    "from sklearn.metrics import confusion_matrix\n",
    "from sklearn.metrics import classification_report"
   ]
  },
  {
   "cell_type": "code",
   "execution_count": 44,
   "metadata": {},
   "outputs": [],
   "source": [
    "from sklearn.preprocessing import RobustScaler\n",
    "from sklearn.compose import ColumnTransformer\n",
    "from category_encoders import TargetEncoder, LeaveOneOutEncoder, JamesSteinEncoder, MEstimateEncoder\n",
    "\n",
    "from mlxtend.evaluate import confusion_matrix\n",
    "from mlxtend.plotting import plot_confusion_matrix"
   ]
  },
  {
   "cell_type": "code",
   "execution_count": 64,
   "metadata": {},
   "outputs": [],
   "source": [
    "import xgboost as xgb"
   ]
  },
  {
   "cell_type": "code",
   "execution_count": 45,
   "metadata": {},
   "outputs": [],
   "source": [
    "df=pd.read_csv('num_cols.csv')"
   ]
  },
  {
   "cell_type": "code",
   "execution_count": 46,
   "metadata": {},
   "outputs": [],
   "source": [
    "df1=pd.read_csv('training_set_values.csv')"
   ]
  },
  {
   "cell_type": "code",
   "execution_count": 47,
   "metadata": {},
   "outputs": [],
   "source": [
    "from sklearn.preprocessing import LabelEncoder\n",
    "lb=LabelEncoder()\n",
    "encoder=TargetEncoder"
   ]
  },
  {
   "cell_type": "code",
   "execution_count": 48,
   "metadata": {
    "scrolled": false
   },
   "outputs": [
    {
     "data": {
      "text/html": [
       "<div>\n",
       "<style scoped>\n",
       "    .dataframe tbody tr th:only-of-type {\n",
       "        vertical-align: middle;\n",
       "    }\n",
       "\n",
       "    .dataframe tbody tr th {\n",
       "        vertical-align: top;\n",
       "    }\n",
       "\n",
       "    .dataframe thead th {\n",
       "        text-align: right;\n",
       "    }\n",
       "</style>\n",
       "<table border=\"1\" class=\"dataframe\">\n",
       "  <thead>\n",
       "    <tr style=\"text-align: right;\">\n",
       "      <th></th>\n",
       "      <th>Unnamed: 0</th>\n",
       "      <th>gps_height</th>\n",
       "      <th>longitude</th>\n",
       "      <th>latitude</th>\n",
       "      <th>population</th>\n",
       "      <th>public_meeting</th>\n",
       "      <th>permit</th>\n",
       "      <th>construction_year</th>\n",
       "      <th>status_code</th>\n",
       "      <th>payment_value</th>\n",
       "      <th>...</th>\n",
       "      <th>funder_code</th>\n",
       "      <th>installer_code</th>\n",
       "      <th>basin_code</th>\n",
       "      <th>extraction_code</th>\n",
       "      <th>management_code</th>\n",
       "      <th>quality_code</th>\n",
       "      <th>quantity_code</th>\n",
       "      <th>source_code</th>\n",
       "      <th>waterpoint_code</th>\n",
       "      <th>payment_type</th>\n",
       "    </tr>\n",
       "  </thead>\n",
       "  <tbody>\n",
       "    <tr>\n",
       "      <td>0</td>\n",
       "      <td>0</td>\n",
       "      <td>1390</td>\n",
       "      <td>34.938093</td>\n",
       "      <td>-9.856322</td>\n",
       "      <td>109</td>\n",
       "      <td>True</td>\n",
       "      <td>False</td>\n",
       "      <td>1999</td>\n",
       "      <td>1</td>\n",
       "      <td>1</td>\n",
       "      <td>...</td>\n",
       "      <td>11</td>\n",
       "      <td>10</td>\n",
       "      <td>1</td>\n",
       "      <td>1</td>\n",
       "      <td>7</td>\n",
       "      <td>6</td>\n",
       "      <td>1</td>\n",
       "      <td>8</td>\n",
       "      <td>1</td>\n",
       "      <td>0</td>\n",
       "    </tr>\n",
       "    <tr>\n",
       "      <td>1</td>\n",
       "      <td>1</td>\n",
       "      <td>1399</td>\n",
       "      <td>34.698766</td>\n",
       "      <td>-2.147466</td>\n",
       "      <td>280</td>\n",
       "      <td>True</td>\n",
       "      <td>True</td>\n",
       "      <td>2010</td>\n",
       "      <td>1</td>\n",
       "      <td>0</td>\n",
       "      <td>...</td>\n",
       "      <td>11</td>\n",
       "      <td>10</td>\n",
       "      <td>4</td>\n",
       "      <td>1</td>\n",
       "      <td>11</td>\n",
       "      <td>6</td>\n",
       "      <td>2</td>\n",
       "      <td>5</td>\n",
       "      <td>1</td>\n",
       "      <td>2</td>\n",
       "    </tr>\n",
       "    <tr>\n",
       "      <td>2</td>\n",
       "      <td>2</td>\n",
       "      <td>686</td>\n",
       "      <td>37.460664</td>\n",
       "      <td>-3.821329</td>\n",
       "      <td>250</td>\n",
       "      <td>True</td>\n",
       "      <td>True</td>\n",
       "      <td>2009</td>\n",
       "      <td>1</td>\n",
       "      <td>1</td>\n",
       "      <td>...</td>\n",
       "      <td>11</td>\n",
       "      <td>16</td>\n",
       "      <td>5</td>\n",
       "      <td>1</td>\n",
       "      <td>7</td>\n",
       "      <td>6</td>\n",
       "      <td>1</td>\n",
       "      <td>0</td>\n",
       "      <td>2</td>\n",
       "      <td>5</td>\n",
       "    </tr>\n",
       "    <tr>\n",
       "      <td>3</td>\n",
       "      <td>3</td>\n",
       "      <td>263</td>\n",
       "      <td>38.486161</td>\n",
       "      <td>-11.155298</td>\n",
       "      <td>58</td>\n",
       "      <td>True</td>\n",
       "      <td>True</td>\n",
       "      <td>1986</td>\n",
       "      <td>0</td>\n",
       "      <td>0</td>\n",
       "      <td>...</td>\n",
       "      <td>16</td>\n",
       "      <td>10</td>\n",
       "      <td>7</td>\n",
       "      <td>10</td>\n",
       "      <td>7</td>\n",
       "      <td>6</td>\n",
       "      <td>0</td>\n",
       "      <td>3</td>\n",
       "      <td>2</td>\n",
       "      <td>2</td>\n",
       "    </tr>\n",
       "    <tr>\n",
       "      <td>4</td>\n",
       "      <td>4</td>\n",
       "      <td>0</td>\n",
       "      <td>31.130847</td>\n",
       "      <td>-1.825359</td>\n",
       "      <td>281</td>\n",
       "      <td>True</td>\n",
       "      <td>True</td>\n",
       "      <td>2000</td>\n",
       "      <td>1</td>\n",
       "      <td>0</td>\n",
       "      <td>...</td>\n",
       "      <td>11</td>\n",
       "      <td>10</td>\n",
       "      <td>4</td>\n",
       "      <td>1</td>\n",
       "      <td>1</td>\n",
       "      <td>6</td>\n",
       "      <td>3</td>\n",
       "      <td>5</td>\n",
       "      <td>1</td>\n",
       "      <td>2</td>\n",
       "    </tr>\n",
       "    <tr>\n",
       "      <td>...</td>\n",
       "      <td>...</td>\n",
       "      <td>...</td>\n",
       "      <td>...</td>\n",
       "      <td>...</td>\n",
       "      <td>...</td>\n",
       "      <td>...</td>\n",
       "      <td>...</td>\n",
       "      <td>...</td>\n",
       "      <td>...</td>\n",
       "      <td>...</td>\n",
       "      <td>...</td>\n",
       "      <td>...</td>\n",
       "      <td>...</td>\n",
       "      <td>...</td>\n",
       "      <td>...</td>\n",
       "      <td>...</td>\n",
       "      <td>...</td>\n",
       "      <td>...</td>\n",
       "      <td>...</td>\n",
       "      <td>...</td>\n",
       "      <td>...</td>\n",
       "    </tr>\n",
       "    <tr>\n",
       "      <td>59395</td>\n",
       "      <td>59395</td>\n",
       "      <td>1210</td>\n",
       "      <td>37.169807</td>\n",
       "      <td>-3.253847</td>\n",
       "      <td>125</td>\n",
       "      <td>True</td>\n",
       "      <td>True</td>\n",
       "      <td>1999</td>\n",
       "      <td>1</td>\n",
       "      <td>1</td>\n",
       "      <td>...</td>\n",
       "      <td>5</td>\n",
       "      <td>10</td>\n",
       "      <td>5</td>\n",
       "      <td>1</td>\n",
       "      <td>9</td>\n",
       "      <td>6</td>\n",
       "      <td>1</td>\n",
       "      <td>8</td>\n",
       "      <td>1</td>\n",
       "      <td>5</td>\n",
       "    </tr>\n",
       "    <tr>\n",
       "      <td>59396</td>\n",
       "      <td>59396</td>\n",
       "      <td>1212</td>\n",
       "      <td>35.249991</td>\n",
       "      <td>-9.070629</td>\n",
       "      <td>56</td>\n",
       "      <td>True</td>\n",
       "      <td>True</td>\n",
       "      <td>1996</td>\n",
       "      <td>1</td>\n",
       "      <td>1</td>\n",
       "      <td>...</td>\n",
       "      <td>11</td>\n",
       "      <td>10</td>\n",
       "      <td>6</td>\n",
       "      <td>1</td>\n",
       "      <td>7</td>\n",
       "      <td>6</td>\n",
       "      <td>1</td>\n",
       "      <td>6</td>\n",
       "      <td>1</td>\n",
       "      <td>0</td>\n",
       "    </tr>\n",
       "    <tr>\n",
       "      <td>59397</td>\n",
       "      <td>59397</td>\n",
       "      <td>0</td>\n",
       "      <td>34.017087</td>\n",
       "      <td>-8.750434</td>\n",
       "      <td>281</td>\n",
       "      <td>True</td>\n",
       "      <td>False</td>\n",
       "      <td>2000</td>\n",
       "      <td>1</td>\n",
       "      <td>1</td>\n",
       "      <td>...</td>\n",
       "      <td>17</td>\n",
       "      <td>14</td>\n",
       "      <td>6</td>\n",
       "      <td>11</td>\n",
       "      <td>7</td>\n",
       "      <td>1</td>\n",
       "      <td>1</td>\n",
       "      <td>3</td>\n",
       "      <td>4</td>\n",
       "      <td>1</td>\n",
       "    </tr>\n",
       "    <tr>\n",
       "      <td>59398</td>\n",
       "      <td>59398</td>\n",
       "      <td>0</td>\n",
       "      <td>35.861315</td>\n",
       "      <td>-6.378573</td>\n",
       "      <td>281</td>\n",
       "      <td>True</td>\n",
       "      <td>True</td>\n",
       "      <td>2000</td>\n",
       "      <td>1</td>\n",
       "      <td>0</td>\n",
       "      <td>...</td>\n",
       "      <td>11</td>\n",
       "      <td>10</td>\n",
       "      <td>6</td>\n",
       "      <td>5</td>\n",
       "      <td>7</td>\n",
       "      <td>6</td>\n",
       "      <td>2</td>\n",
       "      <td>7</td>\n",
       "      <td>4</td>\n",
       "      <td>2</td>\n",
       "    </tr>\n",
       "    <tr>\n",
       "      <td>59399</td>\n",
       "      <td>59399</td>\n",
       "      <td>191</td>\n",
       "      <td>38.104048</td>\n",
       "      <td>-6.747464</td>\n",
       "      <td>150</td>\n",
       "      <td>True</td>\n",
       "      <td>True</td>\n",
       "      <td>2002</td>\n",
       "      <td>1</td>\n",
       "      <td>1</td>\n",
       "      <td>...</td>\n",
       "      <td>19</td>\n",
       "      <td>10</td>\n",
       "      <td>8</td>\n",
       "      <td>5</td>\n",
       "      <td>7</td>\n",
       "      <td>4</td>\n",
       "      <td>1</td>\n",
       "      <td>7</td>\n",
       "      <td>4</td>\n",
       "      <td>3</td>\n",
       "    </tr>\n",
       "  </tbody>\n",
       "</table>\n",
       "<p>59400 rows × 21 columns</p>\n",
       "</div>"
      ],
      "text/plain": [
       "       Unnamed: 0  gps_height  longitude   latitude  population  \\\n",
       "0               0        1390  34.938093  -9.856322         109   \n",
       "1               1        1399  34.698766  -2.147466         280   \n",
       "2               2         686  37.460664  -3.821329         250   \n",
       "3               3         263  38.486161 -11.155298          58   \n",
       "4               4           0  31.130847  -1.825359         281   \n",
       "...           ...         ...        ...        ...         ...   \n",
       "59395       59395        1210  37.169807  -3.253847         125   \n",
       "59396       59396        1212  35.249991  -9.070629          56   \n",
       "59397       59397           0  34.017087  -8.750434         281   \n",
       "59398       59398           0  35.861315  -6.378573         281   \n",
       "59399       59399         191  38.104048  -6.747464         150   \n",
       "\n",
       "       public_meeting  permit  construction_year  status_code  payment_value  \\\n",
       "0                True   False               1999            1              1   \n",
       "1                True    True               2010            1              0   \n",
       "2                True    True               2009            1              1   \n",
       "3                True    True               1986            0              0   \n",
       "4                True    True               2000            1              0   \n",
       "...               ...     ...                ...          ...            ...   \n",
       "59395            True    True               1999            1              1   \n",
       "59396            True    True               1996            1              1   \n",
       "59397            True   False               2000            1              1   \n",
       "59398            True    True               2000            1              0   \n",
       "59399            True    True               2002            1              1   \n",
       "\n",
       "       ...  funder_code  installer_code  basin_code  extraction_code  \\\n",
       "0      ...           11              10           1                1   \n",
       "1      ...           11              10           4                1   \n",
       "2      ...           11              16           5                1   \n",
       "3      ...           16              10           7               10   \n",
       "4      ...           11              10           4                1   \n",
       "...    ...          ...             ...         ...              ...   \n",
       "59395  ...            5              10           5                1   \n",
       "59396  ...           11              10           6                1   \n",
       "59397  ...           17              14           6               11   \n",
       "59398  ...           11              10           6                5   \n",
       "59399  ...           19              10           8                5   \n",
       "\n",
       "       management_code  quality_code  quantity_code  source_code  \\\n",
       "0                    7             6              1            8   \n",
       "1                   11             6              2            5   \n",
       "2                    7             6              1            0   \n",
       "3                    7             6              0            3   \n",
       "4                    1             6              3            5   \n",
       "...                ...           ...            ...          ...   \n",
       "59395                9             6              1            8   \n",
       "59396                7             6              1            6   \n",
       "59397                7             1              1            3   \n",
       "59398                7             6              2            7   \n",
       "59399                7             4              1            7   \n",
       "\n",
       "       waterpoint_code  payment_type  \n",
       "0                    1             0  \n",
       "1                    1             2  \n",
       "2                    2             5  \n",
       "3                    2             2  \n",
       "4                    1             2  \n",
       "...                ...           ...  \n",
       "59395                1             5  \n",
       "59396                1             0  \n",
       "59397                4             1  \n",
       "59398                4             2  \n",
       "59399                4             3  \n",
       "\n",
       "[59400 rows x 21 columns]"
      ]
     },
     "execution_count": 48,
     "metadata": {},
     "output_type": "execute_result"
    }
   ],
   "source": [
    "df['payment_type']=lb.fit_transform(df1['payment_type'])\n",
    "df"
   ]
  },
  {
   "cell_type": "code",
   "execution_count": 49,
   "metadata": {},
   "outputs": [],
   "source": [
    "df=df.drop(columns='Unnamed: 0')"
   ]
  },
  {
   "cell_type": "code",
   "execution_count": 50,
   "metadata": {},
   "outputs": [
    {
     "name": "stdout",
     "output_type": "stream",
     "text": [
      "<class 'pandas.core.frame.DataFrame'>\n",
      "RangeIndex: 59400 entries, 0 to 59399\n",
      "Data columns (total 20 columns):\n",
      "gps_height           59400 non-null int64\n",
      "longitude            59400 non-null float64\n",
      "latitude             59400 non-null float64\n",
      "population           59400 non-null int64\n",
      "public_meeting       59400 non-null bool\n",
      "permit               59400 non-null bool\n",
      "construction_year    59400 non-null int64\n",
      "status_code          59400 non-null int64\n",
      "payment_value        59400 non-null int64\n",
      "region_number        59400 non-null int64\n",
      "funder_code          59400 non-null int64\n",
      "installer_code       59400 non-null int64\n",
      "basin_code           59400 non-null int64\n",
      "extraction_code      59400 non-null int64\n",
      "management_code      59400 non-null int64\n",
      "quality_code         59400 non-null int64\n",
      "quantity_code        59400 non-null int64\n",
      "source_code          59400 non-null int64\n",
      "waterpoint_code      59400 non-null int64\n",
      "payment_type         59400 non-null int32\n",
      "dtypes: bool(2), float64(2), int32(1), int64(15)\n",
      "memory usage: 8.0 MB\n"
     ]
    }
   ],
   "source": [
    "df.info()"
   ]
  },
  {
   "cell_type": "code",
   "execution_count": 51,
   "metadata": {},
   "outputs": [],
   "source": [
    "df['permit'] = df['permit'].astype(bool).astype(int)"
   ]
  },
  {
   "cell_type": "code",
   "execution_count": 52,
   "metadata": {},
   "outputs": [],
   "source": [
    "df['public_meeting'] = df['public_meeting'].astype(bool).astype(int)"
   ]
  },
  {
   "cell_type": "code",
   "execution_count": 53,
   "metadata": {},
   "outputs": [],
   "source": [
    "target='status_code'"
   ]
  },
  {
   "cell_type": "code",
   "execution_count": 54,
   "metadata": {},
   "outputs": [],
   "source": [
    "used_cols=used_cols = [c for c in df.columns.tolist() if c not in [target]]\n",
    "X=df[used_cols]\n",
    "y=df[target]"
   ]
  },
  {
   "cell_type": "code",
   "execution_count": 55,
   "metadata": {},
   "outputs": [],
   "source": [
    "# scaler = RobustScaler()\n",
    "\n",
    "# encoder = ce.WOEEncoder(cols=cat_col)\n",
    "\n",
    "# following steps will try later on to improve \n",
    "# Creating the separate transformers for numeric and categorical columns\n",
    "# num_transformer = make_pipeline(scaler)\n",
    "# cat_transformer = make_pipeline(encoder)\n",
    "\n",
    "# # Defining preprocessor, which combines the two transformers\n",
    "# preprocessor = ColumnTransformer(\n",
    "#     transformers=[('num', num_transformer, num_col),\n",
    "#                   ('cat', cat_transformer, cat_col)])"
   ]
  },
  {
   "cell_type": "code",
   "execution_count": 56,
   "metadata": {},
   "outputs": [],
   "source": [
    "X_train, X_test, y_train, y_test = train_test_split(X, y, test_size=0.2, random_state=42)"
   ]
  },
  {
   "cell_type": "markdown",
   "metadata": {},
   "source": [
    "## Logistic Regression"
   ]
  },
  {
   "cell_type": "code",
   "execution_count": 57,
   "metadata": {},
   "outputs": [
    {
     "name": "stdout",
     "output_type": "stream",
     "text": [
      "TRAIN accuracy: 0.6304924242424242\n",
      "TEST accuracy: 0.6377104377104377\n"
     ]
    },
    {
     "data": {
      "image/png": "[encoded data removed]",
      "text/plain": [
       "<Figure size 432x288 with 1 Axes>"
      ]
     },
     "metadata": {
      "needs_background": "light"
     },
     "output_type": "display_data"
    }
   ],
   "source": [
    "lr = LogisticRegression(class_weight = 'balanced', solver = 'lbfgs', random_state=42)\n",
    "\n",
    "pipe = make_pipeline(lr)\n",
    "pipe.fit(X_train, y_train)\n",
    "\n",
    "\n",
    "# make predictions on training set\n",
    "y_pred = pipe.predict(X_train)\n",
    "\n",
    "# make predictions on test set\n",
    "y_score = pipe.predict(X_test)\n",
    "\n",
    "print(\"TRAIN accuracy:\",accuracy_score(y_train, y_pred))\n",
    "print(\"TEST accuracy:\",accuracy_score(y_test, y_score))\n",
    "\n",
    "cm = confusion_matrix(y_test, y_score)\n",
    "plot_confusion_matrix(cm)\n",
    "plt.show()"
   ]
  },
  {
   "cell_type": "markdown",
   "metadata": {},
   "source": [
    "## Decision Tree"
   ]
  },
  {
   "cell_type": "markdown",
   "metadata": {},
   "source": [
    "### WoE-Scorecard"
   ]
  },
  {
   "cell_type": "code",
   "execution_count": 58,
   "metadata": {},
   "outputs": [],
   "source": [
    "def plot_tree(dt, used_cols, out_file='mytree.dot'):\n",
    "    export_graphviz(dt, out_file=out_file, \n",
    "                    filled=True, feature_names=used_cols, \n",
    "                    leaves_parallel=True, node_ids=True)\n",
    "    with open(out_file) as f:\n",
    "        dot_graph = f.read()\n",
    "    return graphviz.Source(dot_graph)\n",
    "    \n",
    "\n",
    "def prune_index(inner_tree, index, threshold):\n",
    "    if inner_tree.value[index].min() < threshold:\n",
    "        # turn node into a leaf by \"unlinking\" its children\n",
    "        inner_tree.children_left[index] = TREE_LEAF\n",
    "        inner_tree.children_right[index] = TREE_LEAF\n",
    "    # if there are children, visit them as well\n",
    "    if inner_tree.children_left[index] != TREE_LEAF:\n",
    "        prune_index(inner_tree, inner_tree.children_left[index], threshold)\n",
    "        prune_index(inner_tree, inner_tree.children_right[index], threshold)\n",
    "        \n",
    "        \n",
    "def stringify(data):\n",
    "    X = pd.DataFrame(data)\n",
    "    for c in X.columns.tolist():\n",
    "        X[c] = X[c].astype(str)\n",
    "    return X\n",
    "\n",
    "objectify = FunctionTransformer(func=stringify, check_inverse=False)"
   ]
  },
  {
   "cell_type": "code",
   "execution_count": 60,
   "metadata": {},
   "outputs": [
    {
     "name": "stdout",
     "output_type": "stream",
     "text": [
      "0.7751292082705519 +/- 0.07647231030747585\n"
     ]
    }
   ],
   "source": [
    "used_cols = [c for c in df.columns.tolist() if c not in [target]]\n",
    "X, y = df[used_cols], df[target]\n",
    "\n",
    "binner = KBinsDiscretizer(n_bins=10, strategy='quantile', encode='ordinal')\n",
    "encoder = WOEEncoder()\n",
    "clf = LogisticRegression(class_weight='balanced')\n",
    "pipe = make_pipeline(binner, objectify, encoder, clf)\n",
    "\n",
    "scores = cross_val_score(pipe, X, y, cv=5, scoring='roc_auc')\n",
    "print(scores.mean(), \"+/-\", scores.std())"
   ]
  },
  {
   "cell_type": "code",
   "execution_count": 61,
   "metadata": {},
   "outputs": [],
   "source": [
    "from sklearn.preprocessing import LabelEncoder\n",
    "lb=LabelEncoder()"
   ]
  },
  {
   "cell_type": "markdown",
   "metadata": {},
   "source": [
    "## Decision Tree Classifier"
   ]
  },
  {
   "cell_type": "code",
   "execution_count": 62,
   "metadata": {},
   "outputs": [
    {
     "name": "stdout",
     "output_type": "stream",
     "text": [
      "Train ROC-AUC: 0.9999966828874219\n",
      "Test ROC-AUC: 0.8089878671775224\n"
     ]
    }
   ],
   "source": [
    "dt= DecisionTreeClassifier()\n",
    "dt.fit(X_train,y_train)\n",
    "\n",
    "train_preds=dt.predict_proba(X_train)[:,1]\n",
    "test_preds=dt.predict_proba(X_test)[:,1]\n",
    "\n",
    "train_score = roc_auc_score(y_train, train_preds)\n",
    "test_score = roc_auc_score(y_test, test_preds)\n",
    "\n",
    "print(f\"Train ROC-AUC: {train_score}\")\n",
    "print(f\"Test ROC-AUC: {test_score}\")"
   ]
  },
  {
   "cell_type": "code",
   "execution_count": 69,
   "metadata": {},
   "outputs": [
    {
     "name": "stdout",
     "output_type": "stream",
     "text": [
      "Train ROC-AUC: 0.7856221481255649\n",
      "Test ROC-AUC: 0.7902664735155233\n"
     ]
    }
   ],
   "source": [
    "dt_2=DecisionTreeClassifier(max_depth=5, criterion='entropy', min_samples_split=5)\n",
    "\n",
    "dt_2.fit(X_train,y_train)\n",
    "\n",
    "train_preds = dt_2.predict_proba(X_train)[:,1]\n",
    "test_preds = dt_2.predict_proba(X_test)[:,1]\n",
    "\n",
    "train_score = roc_auc_score(y_train, train_preds)\n",
    "test_score = roc_auc_score(y_test, test_preds)\n",
    "\n",
    "print(f\"Train ROC-AUC: {train_score}\")\n",
    "print(f\"Test ROC-AUC: {test_score}\")"
   ]
  },
  {
   "cell_type": "code",
   "execution_count": 70,
   "metadata": {},
   "outputs": [
    {
     "data": {
      "text/plain": [
       "GridSearchCV(cv=3, error_score=nan,\n",
       "             estimator=DecisionTreeClassifier(ccp_alpha=0.0, class_weight=None,\n",
       "                                              criterion='gini', max_depth=None,\n",
       "                                              max_features=None,\n",
       "                                              max_leaf_nodes=None,\n",
       "                                              min_impurity_decrease=0.0,\n",
       "                                              min_impurity_split=None,\n",
       "                                              min_samples_leaf=1,\n",
       "                                              min_samples_split=2,\n",
       "                                              min_weight_fraction_leaf=0.0,\n",
       "                                              presort='deprecated',\n",
       "                                              random_state=None,\n",
       "                                              splitter='best'),\n",
       "             iid='deprecated', n_jobs=None,\n",
       "             param_grid={'class_weight': [None, 'balanced'],\n",
       "                         'max_depth': [4, 5, 6],\n",
       "                         'max_features': ['sqrt', 'log2']},\n",
       "             pre_dispatch='2*n_jobs', refit=True, return_train_score=False,\n",
       "             scoring='roc_auc', verbose=0)"
      ]
     },
     "execution_count": 70,
     "metadata": {},
     "output_type": "execute_result"
    }
   ],
   "source": [
    "dt = DecisionTreeClassifier()\n",
    "\n",
    "grid_params = {'class_weight': [None,'balanced'], 'max_depth':[4,5,6], 'max_features': ['sqrt','log2']}\n",
    "\n",
    "grid_search = GridSearchCV(dt, grid_params, cv=3, scoring='roc_auc')\n",
    "grid_search.fit(X_train, y_train)"
   ]
  },
  {
   "cell_type": "code",
   "execution_count": 71,
   "metadata": {},
   "outputs": [
    {
     "data": {
      "text/plain": [
       "{'class_weight': 'balanced', 'max_depth': 6, 'max_features': 'log2'}"
      ]
     },
     "execution_count": 71,
     "metadata": {},
     "output_type": "execute_result"
    }
   ],
   "source": [
    "grid_search.best_params_"
   ]
  },
  {
   "cell_type": "code",
   "execution_count": 72,
   "metadata": {},
   "outputs": [
    {
     "name": "stdout",
     "output_type": "stream",
     "text": [
      "Train ROC-AUC: 0.7828170343075701\n",
      "Test ROC-AUC: 0.7821270904355344\n"
     ]
    }
   ],
   "source": [
    "dt_grid = grid_search.best_estimator_\n",
    "\n",
    "dt_grid.fit(X_train, y_train)\n",
    "\n",
    "train_preds = dt_grid.predict_proba(X_train)[:, 1]\n",
    "test_preds = dt_grid.predict_proba(X_test)[:, 1]\n",
    "\n",
    "train_score = roc_auc_score(y_train, train_preds)\n",
    "test_score = roc_auc_score(y_test, test_preds)\n",
    "\n",
    "print(f\"Train ROC-AUC: {train_score}\")\n",
    "print(f\"Test ROC-AUC: {test_score}\")"
   ]
  },
  {
   "cell_type": "code",
   "execution_count": null,
   "metadata": {},
   "outputs": [],
   "source": []
  }
 ],
 "metadata": {
  "kernelspec": {
   "display_name": "Python 3",
   "language": "python",
   "name": "python3"
  },
  "language_info": {
   "codemirror_mode": {
    "name": "ipython",
    "version": 3
   },
   "file_extension": ".py",
   "mimetype": "text/x-python",
   "name": "python",
   "nbconvert_exporter": "python",
   "pygments_lexer": "ipython3",
   "version": "3.6.9"
  }
 },
 "nbformat": 4,
 "nbformat_minor": 2
}
