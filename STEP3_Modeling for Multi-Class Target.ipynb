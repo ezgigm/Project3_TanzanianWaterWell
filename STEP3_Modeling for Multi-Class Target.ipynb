{
 "cells": [
  {
   "cell_type": "markdown",
   "metadata": {},
   "source": [
    "# 3-Class Target Modeling"
   ]
  },
  {
   "cell_type": "markdown",
   "metadata": {},
   "source": [
    "We got good results with Random Forest Classifier in binary target. But, our main target is in 3 class. We learnt a lot from previous notebook about binary class model. Now, we will apply these models in suitable format to three-class target.\n",
    "\n",
    "In this notebook, models with Random Forest , LGBM and XGBoost can be found. Also, smote technique is applied to imbalanced target data and created balanced data. All steps can be found in related headings and all results can be found at the end of the notebook.\n",
    "\n",
    "In this notebook, we will mostly care about balanced accuracy on test set. Because, competition metric for success in  ternary classification problem is balaced accuracy."
   ]
  },
  {
   "cell_type": "code",
   "execution_count": 91,
   "metadata": {},
   "outputs": [],
   "source": [
    "# importing necessary libraries\n",
    "\n",
    "import matplotlib.pyplot as plt\n",
    "import seaborn as sns; sns.set()\n",
    "%matplotlib inline\n",
    "\n",
    "import pandas as pd\n",
    "import numpy as np\n",
    "\n",
    "from sklearn.tree import DecisionTreeClassifier\n",
    "from sklearn.ensemble import RandomForestClassifier, ExtraTreesClassifier\n",
    "from sklearn.linear_model import LogisticRegression\n",
    "from sklearn.preprocessing import KBinsDiscretizer, FunctionTransformer,RobustScaler\n",
    "from sklearn.model_selection import cross_val_score\n",
    "from category_encoders import OneHotEncoder\n",
    "from sklearn.pipeline import make_pipeline, Pipeline\n",
    "\n",
    "from sklearn.model_selection import GridSearchCV, train_test_split\n",
    "from sklearn.metrics import roc_auc_score\n",
    "\n",
    "from sklearn.datasets import make_classification\n",
    "from sklearn.model_selection import train_test_split, GridSearchCV\n",
    "\n",
    "import warnings\n",
    "warnings.filterwarnings(\"ignore\")\n",
    "\n",
    "import category_encoders as ce\n",
    "from category_encoders import WOEEncoder\n",
    "from sklearn.metrics import accuracy_score, balanced_accuracy_score\n",
    "from sklearn.metrics import confusion_matrix\n",
    "from sklearn.metrics import classification_report\n",
    "\n",
    "from sklearn.compose import ColumnTransformer\n",
    "from category_encoders import TargetEncoder, LeaveOneOutEncoder, JamesSteinEncoder, MEstimateEncoder\n",
    "\n",
    "from mlxtend.evaluate import confusion_matrix\n",
    "from mlxtend.plotting import plot_confusion_matrix\n",
    "from mlxtend.plotting import plot_decision_regions\n",
    "from sklearn.preprocessing import MinMaxScaler\n",
    "from mlxtend.evaluate import feature_importance_permutation\n",
    "from sklearn.experimental import enable_hist_gradient_boosting \n",
    "from sklearn.ensemble import AdaBoostClassifier, GradientBoostingClassifier, HistGradientBoostingClassifier\n",
    "\n",
    "from sklearn.svm import SVC\n",
    "from sklearn.preprocessing import LabelEncoder\n",
    "import xgboost as xgb\n",
    "from xgboost import XGBClassifier\n",
    "from imblearn.over_sampling import SMOTE\n",
    "from sklearn import preprocessing\n",
    "from sklearn.model_selection import RepeatedStratifiedKFold\n",
    "from sklearn.neighbors import KNeighborsClassifier\n",
    "import lightgbm as lgb\n",
    "from lightgbm import LGBMClassifier\n",
    "from sklearn.model_selection import KFold"
   ]
  },
  {
   "cell_type": "code",
   "execution_count": 92,
   "metadata": {},
   "outputs": [],
   "source": [
    "df = pd.read_csv('clean_data.csv') # taking data to df"
   ]
  },
  {
   "cell_type": "code",
   "execution_count": 93,
   "metadata": {},
   "outputs": [],
   "source": [
    "pd.options.display.max_columns=100 # to see all columns"
   ]
  },
  {
   "cell_type": "code",
   "execution_count": 94,
   "metadata": {},
   "outputs": [],
   "source": [
    "df.drop(columns=['Unnamed: 0','funder','installer','construction_year'],inplace=True ) # dropping unnecessary columns"
   ]
  },
  {
   "cell_type": "code",
   "execution_count": 95,
   "metadata": {},
   "outputs": [],
   "source": [
    "df1= df.copy() \n",
    "#at the next steps maybe we can decide not to drop some columns so df assigned another dataframe to protect original"
   ]
  },
  {
   "cell_type": "code",
   "execution_count": 96,
   "metadata": {},
   "outputs": [],
   "source": [
    "df1.drop(columns=['lga','ward'],inplace=True ) # dropping lga and ward which has same information with regions"
   ]
  },
  {
   "cell_type": "code",
   "execution_count": 97,
   "metadata": {},
   "outputs": [],
   "source": [
    "df1['permit'] = df1['permit'].astype(bool).astype(int) #converting from T/F to 0-1"
   ]
  },
  {
   "cell_type": "code",
   "execution_count": 98,
   "metadata": {},
   "outputs": [],
   "source": [
    "df1['public_meeting'] = df1['public_meeting'].astype(bool).astype(int) #converting from T/F to 0-1"
   ]
  },
  {
   "cell_type": "code",
   "execution_count": 99,
   "metadata": {},
   "outputs": [],
   "source": [
    "# assigning categorical columns\n",
    "cat_col = ['basin','region','extraction_type_group','management','payment','water_quality','quantity',\n",
    "               'source','waterpoint_type','decade','installer_cat','funder_cat']"
   ]
  },
  {
   "cell_type": "code",
   "execution_count": 100,
   "metadata": {},
   "outputs": [],
   "source": [
    "# assigning numeric columns\n",
    "num_col = ['gps_height','longitude','latitude','district_code','population','public_meeting','permit']"
   ]
  },
  {
   "cell_type": "code",
   "execution_count": 101,
   "metadata": {
    "scrolled": true
   },
   "outputs": [
    {
     "data": {
      "text/plain": [
       "0    32259\n",
       "2    22824\n",
       "1     4317\n",
       "Name: status_group, dtype: int64"
      ]
     },
     "execution_count": 101,
     "metadata": {},
     "output_type": "execute_result"
    }
   ],
   "source": [
    "df1['status_group'].value_counts()"
   ]
  },
  {
   "cell_type": "markdown",
   "metadata": {},
   "source": [
    "We saw our target labels again that;\n",
    "\n",
    "- 0 = functional \n",
    "- 1 = functional but needs repair\n",
    "- 2 = non-functional"
   ]
  },
  {
   "cell_type": "code",
   "execution_count": 102,
   "metadata": {},
   "outputs": [],
   "source": [
    "# assign target\n",
    "target='status_group'"
   ]
  },
  {
   "cell_type": "code",
   "execution_count": 126,
   "metadata": {},
   "outputs": [],
   "source": [
    "# seperate columns to X,y \n",
    "used_cols = [c for c in df1.columns.tolist() if c not in [target]]\n",
    "X=df1[used_cols]\n",
    "y=df1[target]"
   ]
  },
  {
   "cell_type": "code",
   "execution_count": 127,
   "metadata": {},
   "outputs": [],
   "source": [
    "# choosing train-test splits\n",
    "X_train, X_test, y_train, y_test = train_test_split(X, y, test_size=0.2, random_state=42)"
   ]
  },
  {
   "cell_type": "markdown",
   "metadata": {},
   "source": [
    "Same as the previous notebook, we scaled numeric columns and encoded categorical columns. Differently, we used TargetEncoder in this notebook because Weight of Evidence is not suitable for multiclass problems. "
   ]
  },
  {
   "cell_type": "code",
   "execution_count": 148,
   "metadata": {},
   "outputs": [],
   "source": [
    "df_results = pd.DataFrame(columns=[\"Model\", \"test_balanced_acc\",\n",
    "                                   'train_balanced_acc', 'info']) # to see all results"
   ]
  },
  {
   "cell_type": "markdown",
   "metadata": {},
   "source": [
    "# Random Forest"
   ]
  },
  {
   "cell_type": "code",
   "execution_count": 105,
   "metadata": {},
   "outputs": [
    {
     "name": "stdout",
     "output_type": "stream",
     "text": [
      "Accuracy:\n",
      "=========\n",
      "TRAIN: 0.9201599326599327\n",
      "TEST: 0.7961279461279461\n",
      "\n",
      "Balanced Accuracy:\n",
      "==================\n",
      "TRAIN: 0.932632310756815\n",
      "TEST: 0.7123422369073463\n"
     ]
    }
   ],
   "source": [
    "# choosing scaler and encoder\n",
    "scaler=RobustScaler()\n",
    "encoder = ce.TargetEncoder(cols=cat_col)\n",
    "\n",
    "# putting numeric columns to scaler and categorical to encoder\n",
    "num_transformer = make_pipeline(scaler)\n",
    "cat_transformer = make_pipeline(encoder)\n",
    "\n",
    "# getting together our scaler and encoder with preprocessor\n",
    "preprocessor = ColumnTransformer(\n",
    "      transformers=[('num', num_transformer, num_col),\n",
    "                    ('cat', cat_transformer, cat_col)])\n",
    "\n",
    "# set rf with best grid search results\n",
    "\n",
    "rf = RandomForestClassifier(n_estimators=100, random_state=42, n_jobs=-1,\n",
    "                            criterion= 'entropy',max_features= 'sqrt',\n",
    "                             min_samples_split= 10,class_weight='balanced')\n",
    "\n",
    "#giving all values to pipeline\n",
    "\n",
    "pipe = make_pipeline(preprocessor,rf)\n",
    "\n",
    "\n",
    "pipe.fit(X_train,y_train)\n",
    "# predictions on train set\n",
    "y_pred = pipe.predict(X_train)\n",
    "\n",
    "# predictions on test set\n",
    "y_pred_test = pipe.predict(X_test)\n",
    "\n",
    "# to print the results in good way\n",
    "print(\"Accuracy:\"); print(\"=\"*len(\"Accuracy:\"))\n",
    "print(f\"TRAIN: {accuracy_score(y_train, y_pred)}\")\n",
    "print(f\"TEST: {accuracy_score(y_test, y_pred_test)}\")\n",
    "\n",
    "print(\"\\nBalanced Accuracy:\"); print(\"=\"*len(\"Balanced Accuracy:\"))\n",
    "print(f\"TRAIN: {balanced_accuracy_score(y_train, y_pred)}\")\n",
    "print(f\"TEST: {balanced_accuracy_score(y_test, y_pred_test)}\")\n"
   ]
  },
  {
   "cell_type": "code",
   "execution_count": 61,
   "metadata": {},
   "outputs": [
    {
     "data": {
      "image/png": "[encoded data removed]",
      "text/plain": [
       "<Figure size 432x288 with 1 Axes>"
      ]
     },
     "metadata": {
      "needs_background": "light"
     },
     "output_type": "display_data"
    }
   ],
   "source": [
    "cm = confusion_matrix(y_test, y_pred_test)\n",
    "plot_confusion_matrix(cm)\n",
    "plt.show()"
   ]
  },
  {
   "cell_type": "markdown",
   "metadata": {},
   "source": [
    "Our 3-class dataframe does not fit well to previous binary model. It is highly overfit. To handle with overfit we will try to LGBM and XGBoost with parameters."
   ]
  },
  {
   "cell_type": "code",
   "execution_count": 149,
   "metadata": {},
   "outputs": [],
   "source": [
    "df_results = df_results.append({       # first trial is written in results \n",
    "     \"Model\": 'RandomForest' ,\n",
    "      \"test_balanced_acc\": 0.712 , \n",
    "       'train_balanced_acc' : 0.933,\n",
    "               'info' : 'gridsearch best param'}, ignore_index=True)\n"
   ]
  },
  {
   "cell_type": "markdown",
   "metadata": {},
   "source": [
    "# LGBM"
   ]
  },
  {
   "cell_type": "code",
   "execution_count": 108,
   "metadata": {
    "scrolled": true
   },
   "outputs": [
    {
     "name": "stdout",
     "output_type": "stream",
     "text": [
      "Accuracy:\n",
      "=========\n",
      "TRAIN: 0.7903829966329966\n",
      "TEST: 0.7782828282828282\n",
      "\n",
      "Balanced Accuracy:\n",
      "==================\n",
      "TRAIN: 0.6169051635687167\n",
      "TEST: 0.6024649042675704\n"
     ]
    },
    {
     "data": {
      "image/png": "[encoded data removed]",
      "text/plain": [
       "<Figure size 432x288 with 1 Axes>"
      ]
     },
     "metadata": {
      "needs_background": "light"
     },
     "output_type": "display_data"
    }
   ],
   "source": [
    "#seting model\n",
    "lgbm = LGBMClassifier(booster = 'gbtree', nrounds = 'min.error.idx', maximize = False,eta = .1,max_depth = 10, \n",
    "                      colsample_bytree = .4,learning_rate = 0.1,max_delta_step=1)\n",
    "\n",
    "#sending everthing in pipe\n",
    "pipe = make_pipeline(preprocessor,lgbm)\n",
    "pipe.fit(X_train, y_train)\n",
    "\n",
    "# predictions on train set\n",
    "y_pred = pipe.predict(X_train)\n",
    "\n",
    "# predictions on test set\n",
    "y_pred_test = pipe.predict(X_test)\n",
    "\n",
    "print(\"Accuracy:\"); print(\"=\"*len(\"Accuracy:\"))\n",
    "print(f\"TRAIN: {accuracy_score(y_train, y_pred)}\")\n",
    "print(f\"TEST: {accuracy_score(y_test, y_pred_test)}\")\n",
    "\n",
    "print(\"\\nBalanced Accuracy:\"); print(\"=\"*len(\"Balanced Accuracy:\"))\n",
    "print(f\"TRAIN: {balanced_accuracy_score(y_train, y_pred)}\")\n",
    "print(f\"TEST: {balanced_accuracy_score(y_test, y_pred_test)}\")\n",
    "\n",
    "#confusion matrix\n",
    "cm = confusion_matrix(y_test, y_pred_test)\n",
    "plot_confusion_matrix(cm)\n",
    "plt.show()"
   ]
  },
  {
   "cell_type": "markdown",
   "metadata": {},
   "source": [
    "LightGBM did good job about handling overfit but our accuracy is very low. So, we will continue to XGBoost."
   ]
  },
  {
   "cell_type": "code",
   "execution_count": 150,
   "metadata": {},
   "outputs": [],
   "source": [
    "df_results = df_results.append({       # trial is written in results \n",
    "     \"Model\": 'LGBM' ,\n",
    "      \"test_balanced_acc\": 0.602 , \n",
    "       'train_balanced_acc' : 0.617,\n",
    "               'info' : ''}, ignore_index=True)\n"
   ]
  },
  {
   "cell_type": "markdown",
   "metadata": {},
   "source": [
    "# XGBoost"
   ]
  },
  {
   "cell_type": "code",
   "execution_count": 132,
   "metadata": {},
   "outputs": [
    {
     "name": "stdout",
     "output_type": "stream",
     "text": [
      "Accuracy:\n",
      "=========\n",
      "TRAIN: 0.8446969696969697\n",
      "TEST: 0.7998316498316498\n",
      "\n",
      "Balanced Accuracy:\n",
      "==================\n",
      "TRAIN: 0.6823503079187088\n",
      "TEST: 0.6293737564865337\n"
     ]
    },
    {
     "data": {
      "image/png": "[encoded data removed]",
      "text/plain": [
       "<Figure size 432x288 with 1 Axes>"
      ]
     },
     "metadata": {
      "needs_background": "light"
     },
     "output_type": "display_data"
    }
   ],
   "source": [
    "xgb = XGBClassifier(objective = 'multi:softmax', booster = 'gbtree', nrounds = 'min.error.idx',\n",
    "                      num_class = 3, maximize = False, eval_metric = 'merror', eta = .1,\n",
    "                      max_depth = 10, colsample_bytree = .4, n_jobs = -1,learning_rate = 0.05)\n",
    "\n",
    "pipe = make_pipeline(preprocessor,xgb)\n",
    "pipe.fit(X_train, y_train)\n",
    "\n",
    "\n",
    "# make predictions on training set\n",
    "y_pred = pipe.predict(X_train)\n",
    "\n",
    "# make predictions on test set\n",
    "y_pred_test = pipe.predict(X_test)\n",
    "\n",
    "# to print the results in good way\n",
    "print(\"Accuracy:\"); print(\"=\"*len(\"Accuracy:\"))\n",
    "print(f\"TRAIN: {accuracy_score(y_train, y_pred)}\")\n",
    "print(f\"TEST: {accuracy_score(y_test, y_pred_test)}\")\n",
    "\n",
    "print(\"\\nBalanced Accuracy:\"); print(\"=\"*len(\"Balanced Accuracy:\"))\n",
    "print(f\"TRAIN: {balanced_accuracy_score(y_train, y_pred)}\")\n",
    "print(f\"TEST: {balanced_accuracy_score(y_test, y_pred_test)}\")\n",
    "\n",
    "\n",
    "cm = confusion_matrix(y_test, y_pred_test)\n",
    "plot_confusion_matrix(cm)\n",
    "plt.show()"
   ]
  },
  {
   "cell_type": "markdown",
   "metadata": {},
   "source": [
    "XGBoost also gave overfit results. With playing around parameters we got closer the train- test balanced accuracy results, but stil it is overfit and there are big difference between accuracy and balanced accuracy. Also, 63% is very less. From this information, we understood that we need to solve our imbalanced class problem. To do this, there are some ways. We can set class weight as balanced in Random Forest which we have already done. The other common solution is to resampling imbalanced data. There are two main ways; over-sampling and under-sampling. One of our labels is really insufficient. So, we will use over sampling technique. It tries to balance target with increasing the number of the rare samples. To protect our data from abundant samples, new rare samples must be generated by using techniques as repetition, bootstrapping or SMOTE (Synthetic Minority Over-Sampling Technique). "
   ]
  },
  {
   "cell_type": "code",
   "execution_count": 151,
   "metadata": {},
   "outputs": [],
   "source": [
    "df_results = df_results.append({       # trial is written in results \n",
    "     \"Model\": 'XGBoost' ,\n",
    "      \"test_balanced_acc\": 0.629 , \n",
    "       'train_balanced_acc' : 0.682,\n",
    "               'info' : ''}, ignore_index=True)\n"
   ]
  },
  {
   "cell_type": "markdown",
   "metadata": {},
   "source": [
    "# SMOTE "
   ]
  },
  {
   "cell_type": "markdown",
   "metadata": {},
   "source": [
    "To use SMOTE with scaler and encoder takes too much time. So, we will encode and scale our dataframe and change it. To protect the original one, we assign it to new df."
   ]
  },
  {
   "cell_type": "code",
   "execution_count": 136,
   "metadata": {},
   "outputs": [],
   "source": [
    "df4=df1.copy() # assign to protect original one "
   ]
  },
  {
   "cell_type": "code",
   "execution_count": 137,
   "metadata": {},
   "outputs": [],
   "source": [
    "# encoding categorical columns\n",
    "encoder = TargetEncoder()\n",
    "\n",
    "for c in cat_col:\n",
    "    df4[str(c) + '_encoded'] = encoder.fit_transform(df4[c].values, df4[target])\n",
    "    df4.drop(columns=c, inplace=True) "
   ]
  },
  {
   "cell_type": "code",
   "execution_count": 139,
   "metadata": {},
   "outputs": [],
   "source": [
    "# scaling numerical columns\n",
    "\n",
    "scaler = preprocessing.RobustScaler()\n",
    "\n",
    "\n",
    "def scaleColumns(df, num_col):\n",
    "    for col in num_col:\n",
    "        df[col] = pd.DataFrame(scaler.fit_transform(pd.DataFrame(df4[col])),columns=[col])\n",
    "    return df\n",
    "\n",
    "scaled_df = scaleColumns(df4,[num_col])\n"
   ]
  },
  {
   "cell_type": "code",
   "execution_count": 140,
   "metadata": {},
   "outputs": [],
   "source": [
    "# assign X and y\n",
    "used_cols = [c for c in scaled_df.columns.tolist() if c not in [target]]\n",
    "X=scaled_df[used_cols]\n",
    "y=scaled_df[target]\n"
   ]
  },
  {
   "cell_type": "code",
   "execution_count": 182,
   "metadata": {},
   "outputs": [
    {
     "name": "stdout",
     "output_type": "stream",
     "text": [
      "0    32259\n",
      "2    22824\n",
      "1     4317\n",
      "Name: status_group, dtype: int64\n",
      "2    32259\n",
      "1    32259\n",
      "0    32259\n",
      "dtype: int64\n"
     ]
    }
   ],
   "source": [
    "# making over-sampling \n",
    "\n",
    "smt = SMOTE(sampling_strategy = 'auto', n_jobs = -1)\n",
    "\n",
    "X_sampled, y_sample = smt.fit_sample(X, y)\n",
    "\n",
    "print(y.value_counts())\n",
    "\n",
    "y_sampled = pd.Series(y_sample) # converting from array to np.series to see value_counts\n",
    "\n",
    "print(y_sampled.value_counts())"
   ]
  },
  {
   "cell_type": "markdown",
   "metadata": {},
   "source": [
    "It made our target balanced with taking random samples."
   ]
  },
  {
   "cell_type": "code",
   "execution_count": 189,
   "metadata": {},
   "outputs": [],
   "source": [
    "#splitting train-test balanced target data\n",
    "X_train, X_test, y_train, y_test = train_test_split(X_sampled, y_sampled, test_size=0.2, random_state=42)"
   ]
  },
  {
   "cell_type": "code",
   "execution_count": 192,
   "metadata": {},
   "outputs": [
    {
     "name": "stdout",
     "output_type": "stream",
     "text": [
      "Accuracy:\n",
      "=========\n",
      "TRAIN: 0.9520931013549295\n",
      "TEST: 0.8599400702624509\n",
      "\n",
      "Balanced Accuracy:\n",
      "==================\n",
      "TRAIN: 0.9521035519751783\n",
      "TEST: 0.8599018223915921\n"
     ]
    }
   ],
   "source": [
    "# setting classifier\n",
    "xgb_smote = XGBClassifier(objective = 'multi:softmax', booster = 'gbtree', nrounds = 'min.error.idx',\n",
    "                      num_class = 3, maximize = False, eval_metric = 'merror', eta = .1,\n",
    "                      max_depth = 16, colsample_bytree = .4, n_jobs = -1,learning_rate = 0.1,\n",
    "                      early_stopping_rounds=10)\n",
    "\n",
    "\n",
    "xgb_smote.fit(X_train, y_train)\n",
    "\n",
    "\n",
    "# predictions of training set\n",
    "y_pred = xgb_smote.predict(X_train)\n",
    "\n",
    "# redictions of test set\n",
    "y_pred_test = xgb_smote.predict(X_test)\n",
    "\n",
    "# to print the results in good way\n",
    "print(\"Accuracy:\"); print(\"=\"*len(\"Accuracy:\"))\n",
    "print(f\"TRAIN: {accuracy_score(y_train, y_pred)}\")\n",
    "print(f\"TEST: {accuracy_score(y_test, y_pred_test)}\")\n",
    "\n",
    "print(\"\\nBalanced Accuracy:\"); print(\"=\"*len(\"Balanced Accuracy:\"))\n",
    "print(f\"TRAIN: {balanced_accuracy_score(y_train, y_pred)}\")\n",
    "print(f\"TEST: {balanced_accuracy_score(y_test, y_pred_test)}\")\n"
   ]
  },
  {
   "cell_type": "code",
   "execution_count": 186,
   "metadata": {
    "scrolled": true
   },
   "outputs": [
    {
     "data": {
      "image/png": "[encoded data removed]",
      "text/plain": [
       "<Figure size 432x288 with 1 Axes>"
      ]
     },
     "metadata": {
      "needs_background": "light"
     },
     "output_type": "display_data"
    }
   ],
   "source": [
    "cm = confusion_matrix(y_test, y_pred_test)\n",
    "plot_confusion_matrix(cm)\n",
    "plt.show()\n"
   ]
  },
  {
   "cell_type": "markdown",
   "metadata": {},
   "source": [
    "With smote, we found best test balanced accuracy. 86% is a enough good result for the first submission. From the confusion matrix, it is seen that splits are clear but not exact. We will work on overfitting problem more with tuning the parametes as future plan. Our aim for confusion matrix is to balance falso positive and false negatives. Because, if our model predicts wells as non-functional which normally are functional, it will create problem for business solutions. Or, if our prediction is functional but normally well is non-functional, it also creates problem. So, we tried to balance our false predictions. "
   ]
  },
  {
   "cell_type": "markdown",
   "metadata": {},
   "source": [
    "# Conclusion "
   ]
  },
  {
   "cell_type": "code",
   "execution_count": 152,
   "metadata": {},
   "outputs": [],
   "source": [
    "df_results = df_results.append({       # trial is written in results \n",
    "     \"Model\": 'XGBoost' ,\n",
    "      \"test_balanced_acc\": 0.860 , \n",
    "       'train_balanced_acc' : 0.952,\n",
    "               'info' : 'with SMOTE'}, ignore_index=True)"
   ]
  },
  {
   "cell_type": "code",
   "execution_count": 153,
   "metadata": {},
   "outputs": [
    {
     "data": {
      "text/html": [
       "<div>\n",
       "<style scoped>\n",
       "    .dataframe tbody tr th:only-of-type {\n",
       "        vertical-align: middle;\n",
       "    }\n",
       "\n",
       "    .dataframe tbody tr th {\n",
       "        vertical-align: top;\n",
       "    }\n",
       "\n",
       "    .dataframe thead th {\n",
       "        text-align: right;\n",
       "    }\n",
       "</style>\n",
       "<table border=\"1\" class=\"dataframe\">\n",
       "  <thead>\n",
       "    <tr style=\"text-align: right;\">\n",
       "      <th></th>\n",
       "      <th>Model</th>\n",
       "      <th>test_balanced_acc</th>\n",
       "      <th>train_balanced_acc</th>\n",
       "      <th>info</th>\n",
       "    </tr>\n",
       "  </thead>\n",
       "  <tbody>\n",
       "    <tr>\n",
       "      <td>0</td>\n",
       "      <td>RandomForest</td>\n",
       "      <td>0.712</td>\n",
       "      <td>0.933</td>\n",
       "      <td>gridsearch best param</td>\n",
       "    </tr>\n",
       "    <tr>\n",
       "      <td>1</td>\n",
       "      <td>LGBM</td>\n",
       "      <td>0.602</td>\n",
       "      <td>0.617</td>\n",
       "      <td></td>\n",
       "    </tr>\n",
       "    <tr>\n",
       "      <td>2</td>\n",
       "      <td>XGBoost</td>\n",
       "      <td>0.629</td>\n",
       "      <td>0.682</td>\n",
       "      <td></td>\n",
       "    </tr>\n",
       "    <tr>\n",
       "      <td>3</td>\n",
       "      <td>XGBoost</td>\n",
       "      <td>0.860</td>\n",
       "      <td>0.952</td>\n",
       "      <td>with SMOTE</td>\n",
       "    </tr>\n",
       "  </tbody>\n",
       "</table>\n",
       "</div>"
      ],
      "text/plain": [
       "          Model  test_balanced_acc  train_balanced_acc                   info\n",
       "0  RandomForest              0.712               0.933  gridsearch best param\n",
       "1          LGBM              0.602               0.617                       \n",
       "2       XGBoost              0.629               0.682                       \n",
       "3       XGBoost              0.860               0.952             with SMOTE"
      ]
     },
     "execution_count": 153,
     "metadata": {},
     "output_type": "execute_result"
    }
   ],
   "source": [
    "df_results"
   ]
  },
  {
   "cell_type": "markdown",
   "metadata": {},
   "source": [
    "All of these 4 models, XGBoost is best when we use it with SMOTE. So, our new and decided model is XGBoost with SMOTE. With 86% accuracy, we can predict the functionality of the wells."
   ]
  },
  {
   "cell_type": "code",
   "execution_count": null,
   "metadata": {},
   "outputs": [],
   "source": []
  }
 ],
 "metadata": {
  "kernelspec": {
   "display_name": "Python 3",
   "language": "python",
   "name": "python3"
  },
  "language_info": {
   "codemirror_mode": {
    "name": "ipython",
    "version": 3
   },
   "file_extension": ".py",
   "mimetype": "text/x-python",
   "name": "python",
   "nbconvert_exporter": "python",
   "pygments_lexer": "ipython3",
   "version": "3.6.9"
  }
 },
 "nbformat": 4,
 "nbformat_minor": 2
}
