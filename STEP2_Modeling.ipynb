{
 "cells": [
  {
   "cell_type": "markdown",
   "metadata": {},
   "source": [
    "# Modeling"
   ]
  },
  {
   "cell_type": "markdown",
   "metadata": {},
   "source": [
    "To find the best model, firstly we will try to simplify our problem. In this notebook, different modeling techniques can be found. We will use different encoder, scaler , classifier and try different models. For simplfy to find best model, firstly we will merge functional and functional but needs repair target labels, and assign this to target. Then, we will assign non-functional to 0. First, we will try simple model then we will try to improve it. After finding the best model, we will try it for the multi-class label format. \n",
    "\n",
    "After decided to scaler and encoder, we tried DecisionTree Classifier, ExtraTreesClassifier and Random Forest. We found good results for Random Forest so we decided to do grid search to find best parameters. After we set this, we did feature importance to select best features and drop less important features. This can help us for future, when we want to do feature engineering. \n",
    "\n",
    "After looking the feature importance, we tried XGBoost, K-Nearest and LGBM Classifiers. And, lastly we decided our best model for binary target as Random Forest with grid search. It gave us the best scores. \n",
    "\n",
    "All details about results of these models can be found at the end of this notebook. Every details about models can be found in relative headings also."
   ]
  },
  {
   "cell_type": "code",
   "execution_count": 52,
   "metadata": {},
   "outputs": [],
   "source": [
    "# importing necessary libraries\n",
    "\n",
    "import matplotlib.pyplot as plt\n",
    "import seaborn as sns; sns.set()\n",
    "%matplotlib inline\n",
    "\n",
    "import pandas as pd\n",
    "import numpy as np\n",
    "\n",
    "from sklearn.tree import DecisionTreeClassifier\n",
    "from sklearn.ensemble import RandomForestClassifier, ExtraTreesClassifier\n",
    "from sklearn.linear_model import LogisticRegression\n",
    "from sklearn.preprocessing import KBinsDiscretizer, FunctionTransformer,RobustScaler\n",
    "from sklearn.model_selection import cross_val_score\n",
    "from category_encoders import OneHotEncoder\n",
    "from sklearn.pipeline import make_pipeline, Pipeline\n",
    "\n",
    "from sklearn.model_selection import GridSearchCV, train_test_split\n",
    "from sklearn.metrics import roc_auc_score\n",
    "\n",
    "from sklearn.datasets import make_classification\n",
    "from sklearn.model_selection import train_test_split, GridSearchCV\n",
    "\n",
    "import warnings\n",
    "warnings.filterwarnings(\"ignore\")\n",
    "\n",
    "import category_encoders as ce\n",
    "from category_encoders import WOEEncoder\n",
    "from sklearn.metrics import accuracy_score, balanced_accuracy_score\n",
    "from sklearn.metrics import confusion_matrix\n",
    "from sklearn.metrics import classification_report\n",
    "\n",
    "from sklearn.compose import ColumnTransformer\n",
    "from category_encoders import TargetEncoder, LeaveOneOutEncoder, JamesSteinEncoder, MEstimateEncoder\n",
    "\n",
    "from mlxtend.evaluate import confusion_matrix\n",
    "from mlxtend.plotting import plot_confusion_matrix\n",
    "from mlxtend.plotting import plot_decision_regions\n",
    "from sklearn.preprocessing import MinMaxScaler\n",
    "from mlxtend.evaluate import feature_importance_permutation\n",
    "from sklearn.experimental import enable_hist_gradient_boosting \n",
    "from sklearn.ensemble import AdaBoostClassifier, GradientBoostingClassifier, HistGradientBoostingClassifier\n",
    "\n",
    "from sklearn.svm import SVC\n",
    "import gc; gc.enable()\n",
    "\n",
    "import xgboost as xgb\n",
    "from xgboost import XGBClassifier\n",
    "\n",
    "from sklearn.neighbors import KNeighborsClassifier\n",
    "import lightgbm as lgb\n",
    "from lightgbm import LGBMClassifier\n"
   ]
  },
  {
   "cell_type": "code",
   "execution_count": 53,
   "metadata": {},
   "outputs": [],
   "source": [
    "df = pd.read_csv('clean_data.csv') #getting new clean dataframe"
   ]
  },
  {
   "cell_type": "code",
   "execution_count": 54,
   "metadata": {},
   "outputs": [],
   "source": [
    "pd.options.display.max_columns=100 # to see all columns"
   ]
  },
  {
   "cell_type": "code",
   "execution_count": 55,
   "metadata": {},
   "outputs": [],
   "source": [
    "# we dropped some columns for now, because we have categorized versions of them\n",
    "df.drop(columns=['Unnamed: 0','funder','installer','construction_year'],inplace=True )"
   ]
  },
  {
   "cell_type": "code",
   "execution_count": 56,
   "metadata": {},
   "outputs": [],
   "source": [
    "df1 = df.copy() # to protect original df , take the copy of it"
   ]
  },
  {
   "cell_type": "code",
   "execution_count": 57,
   "metadata": {},
   "outputs": [],
   "source": [
    "df1.drop(columns=['lga','ward'],inplace=True ) #drop these columns for now"
   ]
  },
  {
   "cell_type": "code",
   "execution_count": 58,
   "metadata": {},
   "outputs": [],
   "source": [
    "df1['permit'] = df1['permit'].astype(bool).astype(int) #changing from True/False to 0-1"
   ]
  },
  {
   "cell_type": "code",
   "execution_count": 59,
   "metadata": {},
   "outputs": [],
   "source": [
    "df1['public_meeting'] = df1['public_meeting'].astype(bool).astype(int) #changing from True/False to 0-1"
   ]
  },
  {
   "cell_type": "markdown",
   "metadata": {},
   "source": [
    "Now, we need to use scaler for numeric columns and encoder for categorical columns. So, we divided columns in two."
   ]
  },
  {
   "cell_type": "code",
   "execution_count": 60,
   "metadata": {},
   "outputs": [],
   "source": [
    "cat_col = ['basin','region','extraction_type_group','management','payment','water_quality','quantity',\n",
    "               'source','waterpoint_type','decade','installer_cat','funder_cat']"
   ]
  },
  {
   "cell_type": "code",
   "execution_count": 61,
   "metadata": {},
   "outputs": [],
   "source": [
    "num_col = ['gps_height','longitude','latitude','district_code','population','public_meeting','permit']"
   ]
  },
  {
   "cell_type": "code",
   "execution_count": 62,
   "metadata": {
    "scrolled": true
   },
   "outputs": [
    {
     "data": {
      "text/plain": [
       "0    32259\n",
       "2    22824\n",
       "1     4317\n",
       "Name: status_group, dtype: int64"
      ]
     },
     "execution_count": 62,
     "metadata": {},
     "output_type": "execute_result"
    }
   ],
   "source": [
    "df1['status_group'].value_counts()"
   ]
  },
  {
   "cell_type": "markdown",
   "metadata": {},
   "source": [
    "0 = functional water points ,\n",
    "\n",
    "1 = functional but needs repair water points,\n",
    "\n",
    "2 = non-functinal water points\n",
    "\n",
    "We collect functional and functional but needs help target together and make them 1, non-functional is 0."
   ]
  },
  {
   "cell_type": "code",
   "execution_count": 63,
   "metadata": {},
   "outputs": [],
   "source": [
    "# getting together labels and converting them \n",
    "target_status_group = {0:1, 1: 1, 2 : 0}\n",
    "df1['status_group'] = df1['status_group'].replace(target_status_group)"
   ]
  },
  {
   "cell_type": "code",
   "execution_count": 64,
   "metadata": {
    "scrolled": true
   },
   "outputs": [
    {
     "data": {
      "text/plain": [
       "1    36576\n",
       "0    22824\n",
       "Name: status_group, dtype: int64"
      ]
     },
     "execution_count": 64,
     "metadata": {},
     "output_type": "execute_result"
    }
   ],
   "source": [
    "df1['status_group'].value_counts()"
   ]
  },
  {
   "cell_type": "markdown",
   "metadata": {},
   "source": [
    "Now, 1 shows functional,\n",
    "\n",
    "0 shows non-functional after here."
   ]
  },
  {
   "cell_type": "code",
   "execution_count": 65,
   "metadata": {},
   "outputs": [],
   "source": [
    "target='status_group' #assign out target column as target"
   ]
  },
  {
   "cell_type": "markdown",
   "metadata": {},
   "source": [
    "# Making Pipeline / Baseline"
   ]
  },
  {
   "cell_type": "code",
   "execution_count": 15,
   "metadata": {},
   "outputs": [],
   "source": [
    "# Dividing X and target \n",
    "\n",
    "used_cols = [c for c in df1.columns.tolist() if c not in [target]]\n",
    "X=df1[used_cols]\n",
    "y=df1[target]"
   ]
  },
  {
   "cell_type": "code",
   "execution_count": 16,
   "metadata": {},
   "outputs": [],
   "source": [
    "# to divide our X and y to test and train\n",
    "X_train, X_test, y_train, y_test = train_test_split(X, y, test_size=0.2, random_state=42)"
   ]
  },
  {
   "cell_type": "markdown",
   "metadata": {},
   "source": [
    "In this notebook, we will use train test split firstly to figure out the problem. After learning from the baseline, we will use cross validation technique to find the best result. Because, it is more convenient and easy to understand how is going on. For some models, we will use both of them to check our results are consistant or not. \n",
    "The metric for competition is balanced accuracy. But, to make sure and understand the progress, we want to check roc_auc score also especially for some models."
   ]
  },
  {
   "cell_type": "markdown",
   "metadata": {},
   "source": [
    "We will create empty dataframe to write our results on it to keep when parameters changed."
   ]
  },
  {
   "cell_type": "code",
   "execution_count": 24,
   "metadata": {},
   "outputs": [],
   "source": [
    "df_results = pd.DataFrame(columns=[\"Model\", \"Scaler\",'Encoder',\n",
    "                                   'roc_auc score mean', 'roc_auc score std']) # to see all results"
   ]
  },
  {
   "cell_type": "markdown",
   "metadata": {},
   "source": [
    "## Baseline - Robust Scaler/ Target Encoder with LogReg"
   ]
  },
  {
   "cell_type": "markdown",
   "metadata": {},
   "source": [
    "To scale numeric values and encode categorical columns, we will make pipeline and also use it in our model and classifier changes. For the first trial we use Robust Scaler as a scaler. Robust scales variables using statistics that are strong to outliers. Robust Scaler use IQR(Interquartile Range). As a encoder, we will try target encoder which works well with higher cardinality features. Our data has higher unique values also. \n",
    "Our first trial for baseline is Logistic Regression which predicts the probability that a certain instance belongs to a class. We chose balanced as class weight, because our classes have imbalanced. And also, solver is an algorithm to use in the optimization problem and for multiclass problems ‘lbfgs’ can handle multinomial loss. "
   ]
  },
  {
   "cell_type": "code",
   "execution_count": 32,
   "metadata": {
    "scrolled": false
   },
   "outputs": [
    {
     "name": "stdout",
     "output_type": "stream",
     "text": [
      "Accuracy:\n",
      "=========\n",
      "TRAIN: 0.7718855218855218\n",
      "TEST: 0.7742424242424243\n",
      "\n",
      "Balanced Accuracy:\n",
      "==================\n",
      "TRAIN: 0.7514242992528544\n",
      "TEST: 0.7529177387309345\n"
     ]
    }
   ],
   "source": [
    "#making pipeline\n",
    "\n",
    "scaler = RobustScaler()\n",
    "encoder = ce.TargetEncoder(cols=cat_col)\n",
    "\n",
    "# putting numeric columns to scaler and categorical to encoder\n",
    "num_transformer = make_pipeline(scaler)\n",
    "cat_transformer = make_pipeline(encoder)\n",
    "\n",
    "# getting together our scaler and encoder with preprocessor\n",
    "preprocessor = ColumnTransformer(\n",
    "      transformers=[('num', num_transformer, num_col),\n",
    "                    ('cat', cat_transformer, cat_col)])\n",
    "\n",
    "\n",
    "# choosing model\n",
    "lr = LogisticRegression(class_weight = 'balanced', solver = 'lbfgs', random_state=42)\n",
    "\n",
    "# giving all values to pipeline\n",
    "pipe = make_pipeline(preprocessor,lr)\n",
    "pipe.fit(X_train, y_train)\n",
    "\n",
    "\n",
    "# make predictions on training set\n",
    "y_pred = pipe.predict(X_train)\n",
    "\n",
    "# make predictions on test set\n",
    "y_pred_test = pipe.predict(X_test)\n",
    "\n",
    "# to print the results in good way\n",
    "print(\"Accuracy:\"); print(\"=\"*len(\"Accuracy:\"))\n",
    "print(f\"TRAIN: {accuracy_score(y_train, y_pred)}\")\n",
    "print(f\"TEST: {accuracy_score(y_test, y_pred_test)}\")\n",
    "\n",
    "print(\"\\nBalanced Accuracy:\"); print(\"=\"*len(\"Balanced Accuracy:\"))\n",
    "print(f\"TRAIN: {balanced_accuracy_score(y_train, y_pred)}\")\n",
    "print(f\"TEST: {balanced_accuracy_score(y_test, y_pred_test)}\")\n"
   ]
  },
  {
   "cell_type": "markdown",
   "metadata": {},
   "source": [
    "For the first trial, this values can be chosen as baseline. We have already fine acceptable results for baseline. There is overfit but not much. For better understanding, we will plot confusion matrix."
   ]
  },
  {
   "cell_type": "code",
   "execution_count": 19,
   "metadata": {},
   "outputs": [
    {
     "data": {
      "image/png": "[encoded data removed]",
      "text/plain": [
       "<Figure size 432x288 with 1 Axes>"
      ]
     },
     "metadata": {
      "needs_background": "light"
     },
     "output_type": "display_data"
    }
   ],
   "source": [
    "# to plot and understand confusion matrix\n",
    "cm = confusion_matrix(y_test, y_pred_test)\n",
    "plot_confusion_matrix(cm)\n",
    "plt.show()"
   ]
  },
  {
   "cell_type": "markdown",
   "metadata": {},
   "source": [
    "From the above matrix, we can make some interpretations. Such that, 1129 represents we predicted as non-functional but normally they are functional. And, 1553 shows that we predicted as functional, but normally they are non-functional."
   ]
  },
  {
   "cell_type": "markdown",
   "metadata": {},
   "source": [
    "Now, we will take the roc_auc score with doing LogReg with cross validation to compare other model results. We will take the mean of the scores, and standard deviation to understand better. We choose cv as 5, it gives 5 different results for each trial. We get and use mean of them. This application will give us more accurate results. Instead of train-test splits, we prefer cross validation which splitting train-test itself and do it for 5 times. It takes more time then train-test split so in some models, we will prefer train-test split again."
   ]
  },
  {
   "cell_type": "code",
   "execution_count": 20,
   "metadata": {},
   "outputs": [
    {
     "name": "stdout",
     "output_type": "stream",
     "text": [
      "0.8313663919758361 +/- 0.0040017382683380015\n"
     ]
    }
   ],
   "source": [
    "scores = cross_val_score(pipe, X, y, cv=5, scoring='roc_auc')\n",
    "print(scores.mean(), \"+/-\", scores.std()) "
   ]
  },
  {
   "cell_type": "markdown",
   "metadata": {},
   "source": [
    "We find better results than splitting even. And this result is better enough for baseline. Std is not too high also. These all results show us the importance of data cleaning. We tried to clean our data well. Maybe because of good cleaning we get good results for simple model."
   ]
  },
  {
   "cell_type": "code",
   "execution_count": 25,
   "metadata": {},
   "outputs": [],
   "source": [
    "df_results = df_results.append({       # first trial is written in results \n",
    "     \"Model\": 'LogReg' ,\n",
    "      \"Scaler\": 'Robust' , \n",
    "       'Encoder' : 'TargetEncoder',\n",
    "               'roc_auc score mean' : 0.8313,\n",
    "                    'roc_auc score std' : 0.0041}, ignore_index=True)\n"
   ]
  },
  {
   "cell_type": "markdown",
   "metadata": {},
   "source": [
    "#  Robust Scaler/ WoE Encoder with LogReg"
   ]
  },
  {
   "cell_type": "markdown",
   "metadata": {},
   "source": [
    "The weight of evidence encoder works as the predictive power of an independent variable accorfing to the dependent variable. It means that bad vs good. Basically, it is calculating the % of events and % of non-events. "
   ]
  },
  {
   "cell_type": "code",
   "execution_count": 33,
   "metadata": {},
   "outputs": [
    {
     "name": "stdout",
     "output_type": "stream",
     "text": [
      "0.8317616620004907 +/- 0.0040460161388364115\n"
     ]
    }
   ],
   "source": [
    "scaler = RobustScaler()\n",
    "encoder = ce.WOEEncoder(cols=cat_col)\n",
    "\n",
    "# putting numeric columns to scaler and categorical to encoder\n",
    "num_transformer = make_pipeline(scaler)\n",
    "cat_transformer = make_pipeline(encoder)\n",
    "\n",
    "# getting together our scaler and encoder with preprocessor\n",
    "preprocessor = ColumnTransformer(\n",
    "      transformers=[('num', num_transformer, num_col),\n",
    "                    ('cat', cat_transformer, cat_col)])\n",
    "\n",
    "# giving all values to pipeline\n",
    "pipe = make_pipeline(preprocessor,lr)\n",
    "\n",
    "scores = cross_val_score(pipe, X, y, cv=5, scoring='roc_auc')\n",
    "print(scores.mean(), \"+/-\", scores.std()) \n"
   ]
  },
  {
   "cell_type": "markdown",
   "metadata": {},
   "source": [
    "It makes better than baseline. So, we will change our encoder to this one. "
   ]
  },
  {
   "cell_type": "code",
   "execution_count": 26,
   "metadata": {},
   "outputs": [],
   "source": [
    "df_results = df_results.append({       # results written in dataframe\n",
    "     \"Model\": 'LogReg' ,\n",
    "      \"Scaler\": 'Robust' , \n",
    "       'Encoder' : 'WeO',\n",
    "                'roc_auc score mean' : 0.8318,\n",
    "                    'roc_auc score std' : 0.0040}, ignore_index=True)\n"
   ]
  },
  {
   "cell_type": "markdown",
   "metadata": {},
   "source": [
    "# Robust Scaler/ LeaveOneOut Encoder with LogReg"
   ]
  },
  {
   "cell_type": "markdown",
   "metadata": {},
   "source": [
    "LeaveOneOut Encoder excludes the row’s target when calculating the mean target for a level to reduce the effect of outliers. It is good for outliers but we have already cleaned most of our outliers. To make sure, we tried this encoder also. "
   ]
  },
  {
   "cell_type": "code",
   "execution_count": 39,
   "metadata": {
    "scrolled": true
   },
   "outputs": [
    {
     "name": "stdout",
     "output_type": "stream",
     "text": [
      "0.8312797087089017 +/- 0.004066043448636809\n"
     ]
    }
   ],
   "source": [
    "scaler = RobustScaler()\n",
    "encoder = ce.LeaveOneOutEncoder(cols=cat_col)\n",
    "\n",
    "num_transformer = make_pipeline(scaler)\n",
    "cat_transformer = make_pipeline(encoder)\n",
    "\n",
    "\n",
    "preprocessor = ColumnTransformer(\n",
    "      transformers=[('num', num_transformer, num_col),\n",
    "                    ('cat', cat_transformer, cat_col)])\n",
    "\n",
    "pipe = make_pipeline(preprocessor,lr)\n",
    "\n",
    "scores = cross_val_score(pipe, X, y, cv=5, scoring='roc_auc')\n",
    "print(scores.mean(), \"+/-\", scores.std())\n",
    "\n"
   ]
  },
  {
   "cell_type": "markdown",
   "metadata": {},
   "source": [
    "It did not better than WoE encoder. So, we will not change it. "
   ]
  },
  {
   "cell_type": "code",
   "execution_count": 27,
   "metadata": {},
   "outputs": [],
   "source": [
    "df_results = df_results.append({       # results written in dataframe\n",
    "     \"Model\": 'LogReg' ,\n",
    "      \"Scaler\": 'Robust' , \n",
    "       'Encoder' : 'LeaveOneOut',\n",
    "                'roc_auc score mean' : 0.8313,\n",
    "                    'roc_auc score std' : 0.0041}, ignore_index=True)\n"
   ]
  },
  {
   "cell_type": "markdown",
   "metadata": {},
   "source": [
    "# Robust Scaler/ OneHot Encoder with LogReg"
   ]
  },
  {
   "cell_type": "code",
   "execution_count": 41,
   "metadata": {},
   "outputs": [
    {
     "name": "stdout",
     "output_type": "stream",
     "text": [
      "0.8538287641042815 +/- 0.0024018659896273917\n",
      "Accuracy:\n",
      "=========\n",
      "TRAIN: 0.7922348484848485\n",
      "TEST: 0.790993265993266\n",
      "\n",
      "Balanced Accuracy:\n",
      "==================\n",
      "TRAIN: 0.7773474554272171\n",
      "TEST: 0.7753766770532994\n"
     ]
    }
   ],
   "source": [
    "scaler = RobustScaler()\n",
    "encoder = ce.OneHotEncoder(cols=cat_col)\n",
    "\n",
    "num_transformer = make_pipeline(scaler)\n",
    "cat_transformer = make_pipeline(encoder)\n",
    "\n",
    "\n",
    "preprocessor = ColumnTransformer(\n",
    "      transformers=[('num', num_transformer, num_col),\n",
    "                    ('cat', cat_transformer, cat_col)])\n",
    "\n",
    "pipe = make_pipeline(preprocessor,lr)\n",
    "\n",
    "scores = cross_val_score(pipe, X, y, cv=5, scoring='roc_auc')\n",
    "print(scores.mean(), \"+/-\", scores.std())\n",
    "\n",
    "pipe.fit(X_train, y_train)\n",
    "\n",
    "# make predictions on training set\n",
    "y_pred = pipe.predict(X_train)\n",
    "\n",
    "# make predictions on test set\n",
    "y_pred_test = pipe.predict(X_test)\n",
    "\n",
    "# to print the results in good way\n",
    "print(\"Accuracy:\"); print(\"=\"*len(\"Accuracy:\"))\n",
    "print(f\"TRAIN: {accuracy_score(y_train, y_pred)}\")\n",
    "print(f\"TEST: {accuracy_score(y_test, y_pred_test)}\")\n",
    "\n",
    "print(\"\\nBalanced Accuracy:\"); print(\"=\"*len(\"Balanced Accuracy:\"))\n",
    "print(f\"TRAIN: {balanced_accuracy_score(y_train, y_pred)}\")\n",
    "print(f\"TEST: {balanced_accuracy_score(y_test, y_pred_test)}\")\n"
   ]
  },
  {
   "cell_type": "markdown",
   "metadata": {},
   "source": [
    "Although one-hot encoder gives the best value, we choose our encoder as weight of evidence encoder. Because one-hot encoder creates a binary feature for each unique value in column. So, it is not very useful for high cardinality categorical values like our data. Because, it takes too much time to run the model each time. "
   ]
  },
  {
   "cell_type": "code",
   "execution_count": 28,
   "metadata": {},
   "outputs": [],
   "source": [
    "df_results = df_results.append({       # results written in dataframe\n",
    "     \"Model\": 'LogReg' ,\n",
    "      \"Scaler\": 'Robust' , \n",
    "       'Encoder' : 'OneHot',\n",
    "                'roc_auc score mean' : 0.8538,\n",
    "                    'roc_auc score std' : 0.0024}, ignore_index=True)\n"
   ]
  },
  {
   "cell_type": "markdown",
   "metadata": {},
   "source": [
    "# MinMax Scaler/ WoE Encoder with LogReg"
   ]
  },
  {
   "cell_type": "markdown",
   "metadata": {},
   "source": [
    "When the distribution is not Gaussian or the standard deviation is very small, the min-max scaler generally works well. So, we will see and compare our scalers."
   ]
  },
  {
   "cell_type": "code",
   "execution_count": 46,
   "metadata": {},
   "outputs": [
    {
     "name": "stdout",
     "output_type": "stream",
     "text": [
      "0.831729064936378 +/- 0.0040065625540644\n"
     ]
    }
   ],
   "source": [
    "scaler = MinMaxScaler()\n",
    "encoder = ce.WOEEncoder(cols=cat_col)\n",
    "\n",
    "# putting numeric columns to scaler and categorical to encoder\n",
    "num_transformer = make_pipeline(scaler)\n",
    "cat_transformer = make_pipeline(encoder)\n",
    "\n",
    "# getting together our scaler and encoder with preprocessor\n",
    "preprocessor = ColumnTransformer(\n",
    "      transformers=[('num', num_transformer, num_col),\n",
    "                    ('cat', cat_transformer, cat_col)])\n",
    "\n",
    "# giving all values to pipeline\n",
    "pipe = make_pipeline(preprocessor,lr)\n",
    "\n",
    "scores = cross_val_score(pipe, X, y, cv=5, scoring='roc_auc')\n",
    "print(scores.mean(), \"+/-\", scores.std()) "
   ]
  },
  {
   "cell_type": "markdown",
   "metadata": {},
   "source": [
    "The result does not change significantly so, we decided our encoder as WoE and scaler as Robust."
   ]
  },
  {
   "cell_type": "code",
   "execution_count": 29,
   "metadata": {},
   "outputs": [],
   "source": [
    "df_results = df_results.append({       # results written in dataframe\n",
    "     \"Model\": 'LogReg' ,\n",
    "      \"Scaler\": 'MinMax' , \n",
    "       'Encoder' : 'WoE',\n",
    "                'roc_auc score mean' : 0.8317,\n",
    "                    'roc_auc score std' : 0.0040}, ignore_index=True)\n"
   ]
  },
  {
   "cell_type": "markdown",
   "metadata": {},
   "source": [
    "# Comparing Different Encoder and Scalers"
   ]
  },
  {
   "cell_type": "code",
   "execution_count": 30,
   "metadata": {
    "scrolled": true
   },
   "outputs": [
    {
     "data": {
      "text/html": [
       "<div>\n",
       "<style scoped>\n",
       "    .dataframe tbody tr th:only-of-type {\n",
       "        vertical-align: middle;\n",
       "    }\n",
       "\n",
       "    .dataframe tbody tr th {\n",
       "        vertical-align: top;\n",
       "    }\n",
       "\n",
       "    .dataframe thead th {\n",
       "        text-align: right;\n",
       "    }\n",
       "</style>\n",
       "<table border=\"1\" class=\"dataframe\">\n",
       "  <thead>\n",
       "    <tr style=\"text-align: right;\">\n",
       "      <th></th>\n",
       "      <th>Model</th>\n",
       "      <th>Scaler</th>\n",
       "      <th>Encoder</th>\n",
       "      <th>roc_auc score mean</th>\n",
       "      <th>roc_auc score std</th>\n",
       "    </tr>\n",
       "  </thead>\n",
       "  <tbody>\n",
       "    <tr>\n",
       "      <td>0</td>\n",
       "      <td>LogReg</td>\n",
       "      <td>Robust</td>\n",
       "      <td>TargetEncoder</td>\n",
       "      <td>0.8313</td>\n",
       "      <td>0.0041</td>\n",
       "    </tr>\n",
       "    <tr>\n",
       "      <td>1</td>\n",
       "      <td>LogReg</td>\n",
       "      <td>Robust</td>\n",
       "      <td>WeO</td>\n",
       "      <td>0.8318</td>\n",
       "      <td>0.0040</td>\n",
       "    </tr>\n",
       "    <tr>\n",
       "      <td>2</td>\n",
       "      <td>LogReg</td>\n",
       "      <td>Robust</td>\n",
       "      <td>LeaveOneOut</td>\n",
       "      <td>0.8313</td>\n",
       "      <td>0.0041</td>\n",
       "    </tr>\n",
       "    <tr>\n",
       "      <td>3</td>\n",
       "      <td>LogReg</td>\n",
       "      <td>Robust</td>\n",
       "      <td>OneHot</td>\n",
       "      <td>0.8538</td>\n",
       "      <td>0.0024</td>\n",
       "    </tr>\n",
       "    <tr>\n",
       "      <td>4</td>\n",
       "      <td>LogReg</td>\n",
       "      <td>MinMax</td>\n",
       "      <td>WoE</td>\n",
       "      <td>0.8317</td>\n",
       "      <td>0.0040</td>\n",
       "    </tr>\n",
       "  </tbody>\n",
       "</table>\n",
       "</div>"
      ],
      "text/plain": [
       "    Model  Scaler        Encoder  roc_auc score mean  roc_auc score std\n",
       "0  LogReg  Robust  TargetEncoder              0.8313             0.0041\n",
       "1  LogReg  Robust            WeO              0.8318             0.0040\n",
       "2  LogReg  Robust    LeaveOneOut              0.8313             0.0041\n",
       "3  LogReg  Robust         OneHot              0.8538             0.0024\n",
       "4  LogReg  MinMax            WoE              0.8317             0.0040"
      ]
     },
     "execution_count": 30,
     "metadata": {},
     "output_type": "execute_result"
    }
   ],
   "source": [
    "df_results"
   ]
  },
  {
   "cell_type": "markdown",
   "metadata": {},
   "source": [
    "For updated baseline, we choose WeO encoder with Robust scaler. Although, one hot encoder gave better results, it is not very suitable for our dataset which contains high unique numbers in columns."
   ]
  },
  {
   "cell_type": "markdown",
   "metadata": {},
   "source": [
    "# Decision Tree Classifier"
   ]
  },
  {
   "cell_type": "markdown",
   "metadata": {},
   "source": [
    "From logistic regression, we have 0.83 roc-auc score. To improve this, we will try new models. First trial is Decision Tree Classifier. "
   ]
  },
  {
   "cell_type": "code",
   "execution_count": 57,
   "metadata": {},
   "outputs": [
    {
     "name": "stdout",
     "output_type": "stream",
     "text": [
      "0.786350564101643 +/- 0.008901914029896015\n"
     ]
    }
   ],
   "source": [
    "dt = DecisionTreeClassifier(criterion='entropy', max_depth=4, min_samples_leaf=5, \n",
    "                            random_state=42, class_weight='balanced')\n",
    "\n",
    "pipe = make_pipeline(preprocessor,dt)\n",
    "\n",
    "scores = cross_val_score(pipe, X, y, cv=5, scoring='roc_auc')\n",
    "print(scores.mean(), \"+/-\", scores.std())"
   ]
  },
  {
   "cell_type": "markdown",
   "metadata": {},
   "source": [
    "We tried decision tree with different parameters and found the best one and used it. "
   ]
  },
  {
   "cell_type": "code",
   "execution_count": 35,
   "metadata": {},
   "outputs": [],
   "source": [
    "df_results = df_results.append({       # results written in dataframe\n",
    "     \"Model\": 'DecisionTreeClassifier' ,\n",
    "      \"Scaler\": 'Robust' , \n",
    "       'Encoder' : 'WoE',\n",
    "                'roc_auc score mean' : 0.7864,\n",
    "                    'roc_auc score std' : 0.0089}, ignore_index=True)"
   ]
  },
  {
   "cell_type": "markdown",
   "metadata": {},
   "source": [
    "# EkstraTreesClassifier"
   ]
  },
  {
   "cell_type": "code",
   "execution_count": 37,
   "metadata": {},
   "outputs": [
    {
     "name": "stdout",
     "output_type": "stream",
     "text": [
      "0.8344599352882744 +/- 0.004585041521670182\n"
     ]
    }
   ],
   "source": [
    "rf_extra = ExtraTreesClassifier(max_depth=5, criterion= 'entropy', min_samples_leaf=3, min_samples_split=18, \n",
    "                          random_state=42, n_estimators = 100, class_weight='balanced', n_jobs = -1)\n",
    "\n",
    "pipe = make_pipeline(preprocessor,rf_extra)\n",
    "\n",
    "scores = cross_val_score(pipe, X, y, cv=5, scoring='roc_auc')\n",
    "print(scores.mean(), \"+/-\", scores.std())"
   ]
  },
  {
   "cell_type": "markdown",
   "metadata": {},
   "source": [
    "Extra Trees works like a Random Forest. It builds multiple trees and splits nodes using random subsets of features. There are two main differences it does not samples without replacement, and nodes are split on random splits, not best splits. We also used different parameters and tuned them as best."
   ]
  },
  {
   "cell_type": "code",
   "execution_count": 38,
   "metadata": {},
   "outputs": [],
   "source": [
    "df_results = df_results.append({       # results written in dataframe\n",
    "     \"Model\": 'ExtraTreesClassifier' ,\n",
    "      \"Scaler\": 'Robust' , \n",
    "       'Encoder' : 'WoE',\n",
    "                'roc_auc score mean' : 0.8345,\n",
    "                    'roc_auc score std' : 0.0045}, ignore_index=True)"
   ]
  },
  {
   "cell_type": "markdown",
   "metadata": {},
   "source": [
    "This results are better than decision tree. It gives an idea about that we need to check Random Forest."
   ]
  },
  {
   "cell_type": "markdown",
   "metadata": {},
   "source": [
    "# RandomForestClassifier"
   ]
  },
  {
   "cell_type": "markdown",
   "metadata": {},
   "source": [
    "Random forest models can reduce overfitting risk by randomness as building n_estimators, bootstrapping sample and \n",
    "splitting nodes on the best split among a random subset of the features selected at every node and converting non-homogeneous node into best possibles."
   ]
  },
  {
   "cell_type": "code",
   "execution_count": 61,
   "metadata": {},
   "outputs": [
    {
     "name": "stdout",
     "output_type": "stream",
     "text": [
      "0.919346222336363 +/- 0.0022277007468852186\n"
     ]
    }
   ],
   "source": [
    "rf = RandomForestClassifier(n_estimators=50, random_state=42, n_jobs=-1,class_weight='balanced')\n",
    "\n",
    "pipe = make_pipeline(preprocessor,rf)\n",
    "\n",
    "scores = cross_val_score(pipe, X, y, cv=5, scoring='roc_auc')\n",
    "print(scores.mean(), \"+/-\", scores.std())"
   ]
  },
  {
   "cell_type": "code",
   "execution_count": 42,
   "metadata": {},
   "outputs": [],
   "source": [
    "df_results = df_results.append({       # results written in dataframe\n",
    "     \"Model\": 'RandomForestClassifier' ,\n",
    "      \"Scaler\": 'Robust' , \n",
    "       'Encoder' : 'WoE',\n",
    "                'roc_auc score mean' : 0.9193,\n",
    "                    'roc_auc score std' : 0.0022}, ignore_index=True)"
   ]
  },
  {
   "cell_type": "markdown",
   "metadata": {},
   "source": [
    "We found good results with RandomForest classifier. We played around parameters and find these as a first trial. Now, with grid search we can find better results with tuning our parameters."
   ]
  },
  {
   "cell_type": "markdown",
   "metadata": {},
   "source": [
    "# Finding Best Parameters with Grid Search"
   ]
  },
  {
   "cell_type": "markdown",
   "metadata": {},
   "source": [
    "Grid search shows us the best parameters for model. To understand this, we will do grid search. To run grid search with encoder and scaler as preprocessing takes too much time. So, we copied our dataframe and encoded categorical columns. Then, we used this encoded dataframe."
   ]
  },
  {
   "cell_type": "code",
   "execution_count": 31,
   "metadata": {},
   "outputs": [],
   "source": [
    "df2=df1.copy() #taking copy of dataframe"
   ]
  },
  {
   "cell_type": "code",
   "execution_count": 32,
   "metadata": {},
   "outputs": [],
   "source": [
    "# encoding categorical columns and turn them to numeric version\n",
    "encoder = WOEEncoder()\n",
    "\n",
    "for c in cat_col:\n",
    "    df2[str(c) + '_encoded'] = encoder.fit_transform(df2[c].values, df2[target])\n",
    "    df2.drop(columns=c, inplace=True) "
   ]
  },
  {
   "cell_type": "code",
   "execution_count": 33,
   "metadata": {},
   "outputs": [],
   "source": [
    "# dividing our X and y and train-test splits\n",
    "\n",
    "used_cols1 = [c for c in df2.columns.tolist() if c not in [target]]\n",
    "X1=df2[used_cols1]\n",
    "y1=df2[target]\n",
    "\n",
    "X_train, X_test, y_train, y_test = train_test_split(X1, y1, test_size=0.2, random_state=42)"
   ]
  },
  {
   "cell_type": "code",
   "execution_count": 99,
   "metadata": {},
   "outputs": [
    {
     "data": {
      "text/plain": [
       "GridSearchCV(cv=5, error_score='raise-deprecating',\n",
       "             estimator=RandomForestClassifier(bootstrap=True,\n",
       "                                              class_weight='balanced',\n",
       "                                              criterion='gini', max_depth=None,\n",
       "                                              max_features='auto',\n",
       "                                              max_leaf_nodes=None,\n",
       "                                              min_impurity_decrease=0.0,\n",
       "                                              min_impurity_split=None,\n",
       "                                              min_samples_leaf=1,\n",
       "                                              min_samples_split=2,\n",
       "                                              min_weight_fraction_leaf=0.0,\n",
       "                                              n_estimators=50, n_jobs=-1,\n",
       "                                              oob_score=False, random_state=42,\n",
       "                                              verbose=0, warm_start=False),\n",
       "             iid='warn', n_jobs=-1,\n",
       "             param_grid={'criterion': ['gini', 'entropy'],\n",
       "                         'max_features': ['sqrt', 'log2'],\n",
       "                         'min_samples_split': [2, 5, 10],\n",
       "                         'n_estimators': [20, 50, 100]},\n",
       "             pre_dispatch='2*n_jobs', refit=True, return_train_score=False,\n",
       "             scoring='roc_auc', verbose=0)"
      ]
     },
     "execution_count": 99,
     "metadata": {},
     "output_type": "execute_result"
    }
   ],
   "source": [
    "# setting grid search parameters and fit and run them\n",
    "grid_p = {\"n_estimators\": [20, 50, 100],\n",
    "          \"criterion\": [\"gini\", \"entropy\"],\n",
    "          \"max_features\": ['sqrt', 'log2'],\n",
    "          \"min_samples_split\": [2, 5, 10]}\n",
    "\n",
    "grid_search = GridSearchCV(rf, grid_p, n_jobs=-1, cv=5, scoring='roc_auc')\n",
    "grid_search.fit(X_train, y_train)"
   ]
  },
  {
   "cell_type": "code",
   "execution_count": 100,
   "metadata": {},
   "outputs": [
    {
     "data": {
      "text/plain": [
       "0.9218773133232117"
      ]
     },
     "execution_count": 100,
     "metadata": {},
     "output_type": "execute_result"
    }
   ],
   "source": [
    "# to see the best score of grid search\n",
    "grid_search.best_score_"
   ]
  },
  {
   "cell_type": "code",
   "execution_count": 101,
   "metadata": {
    "scrolled": true
   },
   "outputs": [
    {
     "data": {
      "text/plain": [
       "{'criterion': 'entropy',\n",
       " 'max_features': 'sqrt',\n",
       " 'min_samples_split': 10,\n",
       " 'n_estimators': 100}"
      ]
     },
     "execution_count": 101,
     "metadata": {},
     "output_type": "execute_result"
    }
   ],
   "source": [
    "# to see the parameters for best score\n",
    "grid_search.best_params_"
   ]
  },
  {
   "cell_type": "markdown",
   "metadata": {},
   "source": [
    "We can find better parameters if we will give more parameters and values to grid search but it can takes hours or maybe our computer can not convert it. We have already run the code for 6 different parameters but during one hour it did not give results. So, we decided to set four parameters for run and we will use them."
   ]
  },
  {
   "cell_type": "code",
   "execution_count": 102,
   "metadata": {},
   "outputs": [],
   "source": [
    "# to set estimator \n",
    "best_rf = grid_search.best_estimator_"
   ]
  },
  {
   "cell_type": "code",
   "execution_count": 103,
   "metadata": {},
   "outputs": [
    {
     "name": "stdout",
     "output_type": "stream",
     "text": [
      "0.9243196643217907 +/- 0.0023412211439206173\n"
     ]
    }
   ],
   "source": [
    "# to see the roc auc score with best parameters\n",
    "scores = cross_val_score(best_rf, X1, y1, cv=5, scoring='roc_auc') \n",
    "print(scores.mean(), \"+/-\", scores.std())\n"
   ]
  },
  {
   "cell_type": "code",
   "execution_count": 44,
   "metadata": {},
   "outputs": [],
   "source": [
    "df_results = df_results.append({       # results written in dataframe\n",
    "     \"Model\": 'RFC with GridSearch' ,\n",
    "      \"Scaler\": 'Robust' , \n",
    "       'Encoder' : 'WoE',\n",
    "                'roc_auc score mean' : 0.9243,\n",
    "                    'roc_auc score std' : 0.0023}, ignore_index=True)"
   ]
  },
  {
   "cell_type": "code",
   "execution_count": 45,
   "metadata": {
    "scrolled": true
   },
   "outputs": [
    {
     "data": {
      "text/html": [
       "<div>\n",
       "<style scoped>\n",
       "    .dataframe tbody tr th:only-of-type {\n",
       "        vertical-align: middle;\n",
       "    }\n",
       "\n",
       "    .dataframe tbody tr th {\n",
       "        vertical-align: top;\n",
       "    }\n",
       "\n",
       "    .dataframe thead th {\n",
       "        text-align: right;\n",
       "    }\n",
       "</style>\n",
       "<table border=\"1\" class=\"dataframe\">\n",
       "  <thead>\n",
       "    <tr style=\"text-align: right;\">\n",
       "      <th></th>\n",
       "      <th>Model</th>\n",
       "      <th>Scaler</th>\n",
       "      <th>Encoder</th>\n",
       "      <th>roc_auc score mean</th>\n",
       "      <th>roc_auc score std</th>\n",
       "    </tr>\n",
       "  </thead>\n",
       "  <tbody>\n",
       "    <tr>\n",
       "      <td>0</td>\n",
       "      <td>LogReg</td>\n",
       "      <td>Robust</td>\n",
       "      <td>TargetEncoder</td>\n",
       "      <td>0.8313</td>\n",
       "      <td>0.0041</td>\n",
       "    </tr>\n",
       "    <tr>\n",
       "      <td>1</td>\n",
       "      <td>LogReg</td>\n",
       "      <td>Robust</td>\n",
       "      <td>WeO</td>\n",
       "      <td>0.8318</td>\n",
       "      <td>0.0040</td>\n",
       "    </tr>\n",
       "    <tr>\n",
       "      <td>2</td>\n",
       "      <td>LogReg</td>\n",
       "      <td>Robust</td>\n",
       "      <td>LeaveOneOut</td>\n",
       "      <td>0.8313</td>\n",
       "      <td>0.0041</td>\n",
       "    </tr>\n",
       "    <tr>\n",
       "      <td>3</td>\n",
       "      <td>LogReg</td>\n",
       "      <td>Robust</td>\n",
       "      <td>OneHot</td>\n",
       "      <td>0.8538</td>\n",
       "      <td>0.0024</td>\n",
       "    </tr>\n",
       "    <tr>\n",
       "      <td>4</td>\n",
       "      <td>LogReg</td>\n",
       "      <td>MinMax</td>\n",
       "      <td>WoE</td>\n",
       "      <td>0.8317</td>\n",
       "      <td>0.0040</td>\n",
       "    </tr>\n",
       "    <tr>\n",
       "      <td>5</td>\n",
       "      <td>DecisionTreeClassifier</td>\n",
       "      <td>Robust</td>\n",
       "      <td>WoE</td>\n",
       "      <td>0.7864</td>\n",
       "      <td>0.0089</td>\n",
       "    </tr>\n",
       "    <tr>\n",
       "      <td>6</td>\n",
       "      <td>ExtraTreesClassifier</td>\n",
       "      <td>Robust</td>\n",
       "      <td>WoE</td>\n",
       "      <td>0.8345</td>\n",
       "      <td>0.0045</td>\n",
       "    </tr>\n",
       "    <tr>\n",
       "      <td>7</td>\n",
       "      <td>RandomForestClassifier</td>\n",
       "      <td>Robust</td>\n",
       "      <td>WoE</td>\n",
       "      <td>0.9193</td>\n",
       "      <td>0.0022</td>\n",
       "    </tr>\n",
       "    <tr>\n",
       "      <td>8</td>\n",
       "      <td>RFC with GridSearch</td>\n",
       "      <td>Robust</td>\n",
       "      <td>WoE</td>\n",
       "      <td>0.9243</td>\n",
       "      <td>0.0023</td>\n",
       "    </tr>\n",
       "  </tbody>\n",
       "</table>\n",
       "</div>"
      ],
      "text/plain": [
       "                    Model  Scaler        Encoder  roc_auc score mean  \\\n",
       "0                  LogReg  Robust  TargetEncoder              0.8313   \n",
       "1                  LogReg  Robust            WeO              0.8318   \n",
       "2                  LogReg  Robust    LeaveOneOut              0.8313   \n",
       "3                  LogReg  Robust         OneHot              0.8538   \n",
       "4                  LogReg  MinMax            WoE              0.8317   \n",
       "5  DecisionTreeClassifier  Robust            WoE              0.7864   \n",
       "6    ExtraTreesClassifier  Robust            WoE              0.8345   \n",
       "7  RandomForestClassifier  Robust            WoE              0.9193   \n",
       "8     RFC with GridSearch  Robust            WoE              0.9243   \n",
       "\n",
       "   roc_auc score std  \n",
       "0             0.0041  \n",
       "1             0.0040  \n",
       "2             0.0041  \n",
       "3             0.0024  \n",
       "4             0.0040  \n",
       "5             0.0089  \n",
       "6             0.0045  \n",
       "7             0.0022  \n",
       "8             0.0023  "
      ]
     },
     "execution_count": 45,
     "metadata": {},
     "output_type": "execute_result"
    }
   ],
   "source": [
    "df_results"
   ]
  },
  {
   "cell_type": "markdown",
   "metadata": {},
   "source": [
    "# Feature Selection"
   ]
  },
  {
   "cell_type": "markdown",
   "metadata": {},
   "source": [
    "We want to see importance of the features wirh random forest. First, fit train data then apply feature_importances_."
   ]
  },
  {
   "cell_type": "code",
   "execution_count": 107,
   "metadata": {
    "scrolled": false
   },
   "outputs": [
    {
     "data": {
      "text/plain": [
       "RandomForestClassifier(bootstrap=True, class_weight='balanced',\n",
       "                       criterion='gini', max_depth=None, max_features='auto',\n",
       "                       max_leaf_nodes=None, min_impurity_decrease=0.0,\n",
       "                       min_impurity_split=None, min_samples_leaf=1,\n",
       "                       min_samples_split=2, min_weight_fraction_leaf=0.0,\n",
       "                       n_estimators=50, n_jobs=-1, oob_score=False,\n",
       "                       random_state=42, verbose=0, warm_start=False)"
      ]
     },
     "execution_count": 107,
     "metadata": {},
     "output_type": "execute_result"
    }
   ],
   "source": [
    "rf.fit(X_train, y_train)"
   ]
  },
  {
   "cell_type": "markdown",
   "metadata": {},
   "source": [
    "Below code cell was taken from our instructor Bryan Arnold's notebook which is about classifiers. We changed the code according to our data and see the plot. "
   ]
  },
  {
   "cell_type": "code",
   "execution_count": 109,
   "metadata": {},
   "outputs": [
    {
     "name": "stdout",
     "output_type": "stream",
     "text": [
      "Feature ranking:\n",
      "1. feature 13 (0.147108)\n",
      "2. feature 1 (0.143442)\n",
      "3. feature 2 (0.141844)\n",
      "4. feature 0 (0.072635)\n",
      "5. feature 9 (0.068399)\n",
      "6. feature 15 (0.062552)\n",
      "7. feature 11 (0.050384)\n",
      "8. feature 4 (0.050012)\n",
      "9. feature 16 (0.034497)\n",
      "10. feature 14 (0.033488)\n",
      "11. feature 8 (0.032305)\n",
      "12. feature 17 (0.031510)\n",
      "13. feature 18 (0.030117)\n",
      "14. feature 3 (0.026134)\n",
      "15. feature 10 (0.025112)\n",
      "16. feature 7 (0.018418)\n",
      "17. feature 12 (0.015914)\n",
      "18. feature 6 (0.009392)\n",
      "19. feature 5 (0.006736)\n"
     ]
    },
    {
     "data": {
      "image/png": "[encoded data removed]",
      "text/plain": [
       "<Figure size 432x288 with 1 Axes>"
      ]
     },
     "metadata": {
      "needs_background": "light"
     },
     "output_type": "display_data"
    }
   ],
   "source": [
    "importances = rf.feature_importances_\n",
    "std = np.std([tree.feature_importances_ for tree in rf.estimators_],\n",
    "             axis=0)\n",
    "indices = np.argsort(importances)[::-1]\n",
    "\n",
    "# Printing the feature ranking\n",
    "print(\"Feature ranking:\")\n",
    "\n",
    "for f in range(X1.shape[1]):\n",
    "    print(\"%d. feature %d (%f)\" % (f + 1, indices[f], importances[indices[f]]))\n",
    "\n",
    "# Plotting the feature importances of the forest\n",
    "plt.figure()\n",
    "plt.title(\"Feature importances\")\n",
    "plt.bar(range(X1.shape[1]), importances[indices],\n",
    "       color=\"r\", yerr=std[indices], align=\"center\")\n",
    "plt.xticks(range(X1.shape[1]), indices)\n",
    "plt.xlim([-1, X1.shape[1]])\n",
    "plt.show()"
   ]
  },
  {
   "cell_type": "markdown",
   "metadata": {},
   "source": [
    "According to below graph features 5-6 and 12 have less importance in our model where 13-1 and 2 have higher importance.\n",
    "Now, we will drop last two features and try our model again."
   ]
  },
  {
   "cell_type": "code",
   "execution_count": 46,
   "metadata": {},
   "outputs": [],
   "source": [
    "# determination of discarding columns\n",
    "\n",
    "discard = ['public_meeting', 'permit']\n",
    "\n",
    "# to determine our X,y values again according to new dataframe\n",
    "used_cols2 = [c for c in df2.columns.tolist() if c not in [target] + discard]\n",
    "X2, y2 = df2[used_cols2], df2[target]"
   ]
  },
  {
   "cell_type": "code",
   "execution_count": 116,
   "metadata": {},
   "outputs": [
    {
     "name": "stdout",
     "output_type": "stream",
     "text": [
      "0.9241922995399895 +/- 0.0019821293437990617\n"
     ]
    }
   ],
   "source": [
    "# setting classifier with best grid search parameters and taking roc-auc score\n",
    "\n",
    "rf = RandomForestClassifier(n_estimators=100, random_state=42, n_jobs=-1,class_weight='balanced',\n",
    "                        criterion ='entropy',max_features = 'sqrt', min_samples_split = 10)\n",
    "\n",
    "scores = cross_val_score(rf, X2, y2, cv=5, scoring='roc_auc')\n",
    "print(scores.mean(), \"+/-\", scores.std())"
   ]
  },
  {
   "cell_type": "code",
   "execution_count": 47,
   "metadata": {},
   "outputs": [],
   "source": [
    "df_results = df_results.append({       # results written in dataframe\n",
    "     \"Model\": 'RFClassifier w/feature selection' ,\n",
    "      \"Scaler\": 'Robust' , \n",
    "       'Encoder' : 'WoE',\n",
    "                'roc_auc score mean' : 0.9242,\n",
    "                    'roc_auc score std' : 0.0020}, ignore_index=True)"
   ]
  },
  {
   "cell_type": "markdown",
   "metadata": {},
   "source": [
    "It gave nearly same results with whole dataset. It shows us that we can do feature engineering with playing around highly important columns in future."
   ]
  },
  {
   "cell_type": "markdown",
   "metadata": {},
   "source": [
    "# Finding Best Important Features of Categorical Columns"
   ]
  },
  {
   "cell_type": "markdown",
   "metadata": {},
   "source": [
    "To make feature selection and engineering in future, we want to see importance of categorical columns. So, we dropped numeric columns and see our feature importance results again."
   ]
  },
  {
   "cell_type": "code",
   "execution_count": 124,
   "metadata": {},
   "outputs": [],
   "source": [
    "# define numeric columns\n",
    "num_col = ['gps_height','longitude','latitude','district_code','population','public_meeting','permit']"
   ]
  },
  {
   "cell_type": "code",
   "execution_count": 125,
   "metadata": {},
   "outputs": [],
   "source": [
    "# dropping numeric columns\n",
    "X1.drop(columns=num_col,inplace=True ) "
   ]
  },
  {
   "cell_type": "code",
   "execution_count": 128,
   "metadata": {},
   "outputs": [
    {
     "data": {
      "text/plain": [
       "RandomForestClassifier(bootstrap=True, class_weight='balanced',\n",
       "                       criterion='entropy', max_depth=None, max_features='sqrt',\n",
       "                       max_leaf_nodes=None, min_impurity_decrease=0.0,\n",
       "                       min_impurity_split=None, min_samples_leaf=1,\n",
       "                       min_samples_split=10, min_weight_fraction_leaf=0.0,\n",
       "                       n_estimators=100, n_jobs=-1, oob_score=False,\n",
       "                       random_state=42, verbose=0, warm_start=False)"
      ]
     },
     "execution_count": 128,
     "metadata": {},
     "output_type": "execute_result"
    }
   ],
   "source": [
    "#splitting data as train and test and fitting to model\n",
    "X_train, X_test, y_train, y_test = train_test_split(X1, y1, test_size=0.2, random_state=42)\n",
    "rf.fit(X_train, y_train)"
   ]
  },
  {
   "cell_type": "code",
   "execution_count": 129,
   "metadata": {
    "scrolled": false
   },
   "outputs": [
    {
     "name": "stdout",
     "output_type": "stream",
     "text": [
      "Feature ranking:\n",
      "1. feature 6 (0.223393)\n",
      "2. feature 2 (0.108580)\n",
      "3. feature 8 (0.089631)\n",
      "4. feature 1 (0.081797)\n",
      "5. feature 4 (0.079386)\n",
      "6. feature 9 (0.073318)\n",
      "7. feature 10 (0.068772)\n",
      "8. feature 11 (0.065870)\n",
      "9. feature 7 (0.064373)\n",
      "10. feature 0 (0.058981)\n",
      "11. feature 3 (0.054432)\n",
      "12. feature 5 (0.031466)\n"
     ]
    },
    {
     "data": {
      "image/png": "[encoded data removed]",
      "text/plain": [
       "<Figure size 432x288 with 1 Axes>"
      ]
     },
     "metadata": {
      "needs_background": "light"
     },
     "output_type": "display_data"
    }
   ],
   "source": [
    "# looking importance again using Bryan Arnold's code from random forest lecture\n",
    "importances = rf.feature_importances_\n",
    "std = np.std([tree.feature_importances_ for tree in rf.estimators_],\n",
    "             axis=0)\n",
    "indices = np.argsort(importances)[::-1]\n",
    "\n",
    "# Printing the feature ranking\n",
    "print(\"Feature ranking:\")\n",
    "\n",
    "for f in range(X1.shape[1]):\n",
    "    print(\"%d. feature %d (%f)\" % (f + 1, indices[f], importances[indices[f]]))\n",
    "\n",
    "# Plotting the feature importances of the forest\n",
    "plt.figure()\n",
    "plt.title(\"Feature importances\")\n",
    "plt.bar(range(X1.shape[1]), importances[indices],\n",
    "       color=\"r\", yerr=std[indices], align=\"center\")\n",
    "plt.xticks(range(X1.shape[1]), indices)\n",
    "plt.xlim([-1, X1.shape[1]])\n",
    "plt.show()"
   ]
  },
  {
   "cell_type": "markdown",
   "metadata": {},
   "source": [
    "In between, categorical columns 6 has more importance then all others. It can give idea to us about feature engineering."
   ]
  },
  {
   "cell_type": "markdown",
   "metadata": {},
   "source": [
    "# XGBClassifier"
   ]
  },
  {
   "cell_type": "markdown",
   "metadata": {},
   "source": [
    "XGBoost is an efficient and flexiable classifier which implements models with Gradient Boosting. Although, it is very usefull classifier, it can be overfit easily. So, parameter selection is very imporant for XGBoost. We can do grid search also for XGBoost to tune our parameters but it takes too much time. So, we played around our parameters manually and decided the best one. "
   ]
  },
  {
   "cell_type": "code",
   "execution_count": 66,
   "metadata": {},
   "outputs": [],
   "source": [
    "# to make sure we will use correct dataframe we will set our X , y again\n",
    "\n",
    "used_cols = [c for c in df1.columns.tolist() if c not in [target]]\n",
    "X=df1[used_cols]\n",
    "y=df1[target]\n",
    "\n",
    "# to divide our X and y to test and train\n",
    "X_train, X_test, y_train, y_test = train_test_split(X, y, test_size=0.2, random_state=42)"
   ]
  },
  {
   "cell_type": "code",
   "execution_count": 91,
   "metadata": {},
   "outputs": [
    {
     "name": "stdout",
     "output_type": "stream",
     "text": [
      "Accuracy:\n",
      "=========\n",
      "TRAIN: 0.9380260942760943\n",
      "TEST: 0.8617845117845118\n",
      "\n",
      "Balanced Accuracy:\n",
      "==================\n",
      "TRAIN: 0.9237369124184338\n",
      "TEST: 0.8389350038141784\n"
     ]
    },
    {
     "data": {
      "image/png": "[encoded data removed]",
      "text/plain": [
       "<Figure size 432x288 with 1 Axes>"
      ]
     },
     "metadata": {
      "needs_background": "light"
     },
     "output_type": "display_data"
    }
   ],
   "source": [
    "# choosing model\n",
    "\n",
    "xgb = XGBClassifier(objective = 'multi:softmax', booster = 'gbtree', nrounds = 'min.error.idx',\n",
    "                      num_class = 3, maximize = False, eval_metric = 'merror',early_stopping_rounds=10,\n",
    "                        eta = .1,max_depth = 12, colsample_bytree = .4, learning_rate = 0.1,\n",
    "                        max_delta_step=1)\n",
    "\n",
    "pipe = make_pipeline(preprocessor,xgb)\n",
    "pipe.fit(X_train, y_train)\n",
    "\n",
    "\n",
    "# make predictions on training set\n",
    "y_pred = pipe.predict(X_train)\n",
    "\n",
    "# make predictions on test set\n",
    "y_pred_test = pipe.predict(X_test)\n",
    "\n",
    "# to print the results in good way\n",
    "print(\"Accuracy:\"); print(\"=\"*len(\"Accuracy:\"))\n",
    "print(f\"TRAIN: {accuracy_score(y_train, y_pred)}\")\n",
    "print(f\"TEST: {accuracy_score(y_test, y_pred_test)}\")\n",
    "\n",
    "print(\"\\nBalanced Accuracy:\"); print(\"=\"*len(\"Balanced Accuracy:\"))\n",
    "print(f\"TRAIN: {balanced_accuracy_score(y_train, y_pred)}\")\n",
    "print(f\"TEST: {balanced_accuracy_score(y_test, y_pred_test)}\")\n",
    "\n",
    "\n",
    "cm = confusion_matrix(y_test, y_pred_test)\n",
    "plot_confusion_matrix(cm)\n",
    "plt.show()"
   ]
  },
  {
   "cell_type": "markdown",
   "metadata": {},
   "source": [
    "The most important parameters are learning rate, early stopping round, max_depth and max_delta step for our tuning. When we changed them, results significantly changed. So, we set this parameters according to results which we find. To compare our results and make sure about roc-auc score, we run same model in cross validation."
   ]
  },
  {
   "cell_type": "code",
   "execution_count": 85,
   "metadata": {},
   "outputs": [
    {
     "name": "stdout",
     "output_type": "stream",
     "text": [
      "0.8407004845846584 +/- 0.003506571678737707\n"
     ]
    }
   ],
   "source": [
    "pipe = make_pipeline(preprocessor,xgb)\n",
    "scores = cross_val_score(pipe, X, y, cv=5, scoring='roc_auc')\n",
    "print(scores.mean(), \"+/-\", scores.std())"
   ]
  },
  {
   "cell_type": "code",
   "execution_count": 92,
   "metadata": {},
   "outputs": [],
   "source": [
    "df_results = df_results.append({       # results written in dataframe\n",
    "     \"Model\": 'XGBoost' ,\n",
    "      \"Scaler\": 'Robust' , \n",
    "       'Encoder' : 'WoE',\n",
    "                'roc_auc score mean' : 0.8407,\n",
    "                    'roc_auc score std' : 0.0035}, ignore_index=True)"
   ]
  },
  {
   "cell_type": "markdown",
   "metadata": {},
   "source": [
    "We found better results before, it is better than baseline but not better than Random Forest. So, we continue to try other models."
   ]
  },
  {
   "cell_type": "markdown",
   "metadata": {},
   "source": [
    "# k-Neigbours Classifier "
   ]
  },
  {
   "cell_type": "markdown",
   "metadata": {},
   "source": [
    "The general principle of k-Neighbors is to find closest in distance of the new point to predefined number of training points and predict the label according to this. First we tried this model without any parameter tuning. According to result, we will decide to tune or leave this model."
   ]
  },
  {
   "cell_type": "code",
   "execution_count": 48,
   "metadata": {},
   "outputs": [
    {
     "name": "stdout",
     "output_type": "stream",
     "text": [
      "0.8852624439664136 +/- 0.0023672331839737193\n"
     ]
    }
   ],
   "source": [
    "knn = KNeighborsClassifier()\n",
    "\n",
    "pipe = make_pipeline(preprocessor,knn)\n",
    "scores = cross_val_score(pipe, X, y, cv=5, scoring='roc_auc')\n",
    "print(scores.mean(), \"+/-\", scores.std())"
   ]
  },
  {
   "cell_type": "code",
   "execution_count": 100,
   "metadata": {},
   "outputs": [],
   "source": [
    "df_results = df_results.append({       # results written in dataframe\n",
    "     \"Model\": 'K-Neigbours' ,\n",
    "      \"Scaler\": 'Robust' , \n",
    "       'Encoder' : 'WoE',\n",
    "                'roc_auc score mean' : 0.8852,\n",
    "                    'roc_auc score std' : 0.0024}, ignore_index=True)"
   ]
  },
  {
   "cell_type": "markdown",
   "metadata": {},
   "source": [
    "This is not better than our Random Forest model. So, we leave it also and do not work on tuning the parameters."
   ]
  },
  {
   "cell_type": "markdown",
   "metadata": {},
   "source": [
    "# LGBM Classifier"
   ]
  },
  {
   "cell_type": "markdown",
   "metadata": {},
   "source": [
    "LGBM also constructs a gradient boosting model. It has some advantages that faster training speed and higher efficiency with lower memory usage. It is capable large data sets with significantly quicker than XGBoost. So, we will set this classifier and play with parameters."
   ]
  },
  {
   "cell_type": "code",
   "execution_count": 103,
   "metadata": {
    "scrolled": true
   },
   "outputs": [
    {
     "name": "stdout",
     "output_type": "stream",
     "text": [
      "Accuracy:\n",
      "=========\n",
      "TRAIN: 0.8400673400673401\n",
      "TEST: 0.830050505050505\n",
      "\n",
      "Balanced Accuracy:\n",
      "==================\n",
      "TRAIN: 0.8089504218513586\n",
      "TEST: 0.797869555098716\n"
     ]
    },
    {
     "data": {
      "image/png": "[encoded data removed]",
      "text/plain": [
       "<Figure size 432x288 with 1 Axes>"
      ]
     },
     "metadata": {
      "needs_background": "light"
     },
     "output_type": "display_data"
    }
   ],
   "source": [
    "#seting model\n",
    "lgbm = LGBMClassifier(booster = 'gbtree', nrounds = 'min.error.idx', maximize = False,eta = .1,max_depth = 10, \n",
    "                      colsample_bytree = .4,learning_rate = 0.1,max_delta_step=1)\n",
    "\n",
    "#sending everthing in pipe\n",
    "pipe = make_pipeline(preprocessor,lgbm)\n",
    "pipe.fit(X_train, y_train)\n",
    "\n",
    "# predictions on train set\n",
    "y_pred = pipe.predict(X_train)\n",
    "\n",
    "# predictions on test set\n",
    "y_pred_test = pipe.predict(X_test)\n",
    "\n",
    "print(\"Accuracy:\"); print(\"=\"*len(\"Accuracy:\"))\n",
    "print(f\"TRAIN: {accuracy_score(y_train, y_pred)}\")\n",
    "print(f\"TEST: {accuracy_score(y_test, y_pred_test)}\")\n",
    "\n",
    "print(\"\\nBalanced Accuracy:\"); print(\"=\"*len(\"Balanced Accuracy:\"))\n",
    "print(f\"TRAIN: {balanced_accuracy_score(y_train, y_pred)}\")\n",
    "print(f\"TEST: {balanced_accuracy_score(y_test, y_pred_test)}\")\n",
    "\n",
    "#confusion matrix\n",
    "cm = confusion_matrix(y_test, y_pred_test)\n",
    "plot_confusion_matrix(cm)\n",
    "plt.show()"
   ]
  },
  {
   "cell_type": "markdown",
   "metadata": {},
   "source": [
    "With the setting the parameters , our model handled overfit problem easily in this model. But we had better results with Random Forest still. So, we will leave this model here. But, maybe later on for competition submission we can come back and tuned parameters again. Intuitively, we feel that to set LGBM Classifer is easier than XGBoost and it handles the overfit problem more easily. To make sure about our result, we did cross validation one more, and see roc-auc score."
   ]
  },
  {
   "cell_type": "code",
   "execution_count": 104,
   "metadata": {},
   "outputs": [
    {
     "name": "stdout",
     "output_type": "stream",
     "text": [
      "0.8973295998515114 +/- 0.002589344640728045\n"
     ]
    }
   ],
   "source": [
    "pipe = make_pipeline(preprocessor,lgbm)\n",
    "scores = cross_val_score(pipe, X, y, cv=5, scoring='roc_auc')\n",
    "print(scores.mean(), \"+/-\", scores.std())"
   ]
  },
  {
   "cell_type": "code",
   "execution_count": 105,
   "metadata": {},
   "outputs": [],
   "source": [
    "df_results = df_results.append({       # results written in dataframe\n",
    "     \"Model\": 'LGBM' ,\n",
    "      \"Scaler\": 'Robust' , \n",
    "       'Encoder' : 'WoE',\n",
    "                'roc_auc score mean' : 0.8973,\n",
    "                    'roc_auc score std' : 0.0025}, ignore_index=True)"
   ]
  },
  {
   "cell_type": "markdown",
   "metadata": {},
   "source": [
    "# Comparing Results"
   ]
  },
  {
   "cell_type": "code",
   "execution_count": 106,
   "metadata": {},
   "outputs": [
    {
     "data": {
      "text/html": [
       "<div>\n",
       "<style scoped>\n",
       "    .dataframe tbody tr th:only-of-type {\n",
       "        vertical-align: middle;\n",
       "    }\n",
       "\n",
       "    .dataframe tbody tr th {\n",
       "        vertical-align: top;\n",
       "    }\n",
       "\n",
       "    .dataframe thead th {\n",
       "        text-align: right;\n",
       "    }\n",
       "</style>\n",
       "<table border=\"1\" class=\"dataframe\">\n",
       "  <thead>\n",
       "    <tr style=\"text-align: right;\">\n",
       "      <th></th>\n",
       "      <th>Model</th>\n",
       "      <th>Scaler</th>\n",
       "      <th>Encoder</th>\n",
       "      <th>roc_auc score mean</th>\n",
       "      <th>roc_auc score std</th>\n",
       "    </tr>\n",
       "  </thead>\n",
       "  <tbody>\n",
       "    <tr>\n",
       "      <td>0</td>\n",
       "      <td>LogReg</td>\n",
       "      <td>Robust</td>\n",
       "      <td>TargetEncoder</td>\n",
       "      <td>0.8313</td>\n",
       "      <td>0.0041</td>\n",
       "    </tr>\n",
       "    <tr>\n",
       "      <td>1</td>\n",
       "      <td>LogReg</td>\n",
       "      <td>Robust</td>\n",
       "      <td>WeO</td>\n",
       "      <td>0.8318</td>\n",
       "      <td>0.0040</td>\n",
       "    </tr>\n",
       "    <tr>\n",
       "      <td>2</td>\n",
       "      <td>LogReg</td>\n",
       "      <td>Robust</td>\n",
       "      <td>LeaveOneOut</td>\n",
       "      <td>0.8313</td>\n",
       "      <td>0.0041</td>\n",
       "    </tr>\n",
       "    <tr>\n",
       "      <td>3</td>\n",
       "      <td>LogReg</td>\n",
       "      <td>Robust</td>\n",
       "      <td>OneHot</td>\n",
       "      <td>0.8538</td>\n",
       "      <td>0.0024</td>\n",
       "    </tr>\n",
       "    <tr>\n",
       "      <td>4</td>\n",
       "      <td>LogReg</td>\n",
       "      <td>MinMax</td>\n",
       "      <td>WoE</td>\n",
       "      <td>0.8317</td>\n",
       "      <td>0.0040</td>\n",
       "    </tr>\n",
       "    <tr>\n",
       "      <td>5</td>\n",
       "      <td>DecisionTreeClassifier</td>\n",
       "      <td>Robust</td>\n",
       "      <td>WoE</td>\n",
       "      <td>0.7864</td>\n",
       "      <td>0.0089</td>\n",
       "    </tr>\n",
       "    <tr>\n",
       "      <td>6</td>\n",
       "      <td>ExtraTreesClassifier</td>\n",
       "      <td>Robust</td>\n",
       "      <td>WoE</td>\n",
       "      <td>0.8345</td>\n",
       "      <td>0.0045</td>\n",
       "    </tr>\n",
       "    <tr>\n",
       "      <td>7</td>\n",
       "      <td>RandomForestClassifier</td>\n",
       "      <td>Robust</td>\n",
       "      <td>WoE</td>\n",
       "      <td>0.9193</td>\n",
       "      <td>0.0022</td>\n",
       "    </tr>\n",
       "    <tr>\n",
       "      <td>8</td>\n",
       "      <td>RFC with GridSearch</td>\n",
       "      <td>Robust</td>\n",
       "      <td>WoE</td>\n",
       "      <td>0.9243</td>\n",
       "      <td>0.0023</td>\n",
       "    </tr>\n",
       "    <tr>\n",
       "      <td>9</td>\n",
       "      <td>RFClassifier w/feature selection</td>\n",
       "      <td>Robust</td>\n",
       "      <td>WoE</td>\n",
       "      <td>0.9242</td>\n",
       "      <td>0.0020</td>\n",
       "    </tr>\n",
       "    <tr>\n",
       "      <td>10</td>\n",
       "      <td>XGBoost</td>\n",
       "      <td>Robust</td>\n",
       "      <td>WoE</td>\n",
       "      <td>0.8407</td>\n",
       "      <td>0.0035</td>\n",
       "    </tr>\n",
       "    <tr>\n",
       "      <td>11</td>\n",
       "      <td>K-Neigbours</td>\n",
       "      <td>Robust</td>\n",
       "      <td>WoE</td>\n",
       "      <td>0.8852</td>\n",
       "      <td>0.0024</td>\n",
       "    </tr>\n",
       "    <tr>\n",
       "      <td>12</td>\n",
       "      <td>LGBM</td>\n",
       "      <td>Robust</td>\n",
       "      <td>WoE</td>\n",
       "      <td>0.8973</td>\n",
       "      <td>0.0025</td>\n",
       "    </tr>\n",
       "  </tbody>\n",
       "</table>\n",
       "</div>"
      ],
      "text/plain": [
       "                               Model  Scaler        Encoder  \\\n",
       "0                             LogReg  Robust  TargetEncoder   \n",
       "1                             LogReg  Robust            WeO   \n",
       "2                             LogReg  Robust    LeaveOneOut   \n",
       "3                             LogReg  Robust         OneHot   \n",
       "4                             LogReg  MinMax            WoE   \n",
       "5             DecisionTreeClassifier  Robust            WoE   \n",
       "6               ExtraTreesClassifier  Robust            WoE   \n",
       "7             RandomForestClassifier  Robust            WoE   \n",
       "8                RFC with GridSearch  Robust            WoE   \n",
       "9   RFClassifier w/feature selection  Robust            WoE   \n",
       "10                           XGBoost  Robust            WoE   \n",
       "11                       K-Neigbours  Robust            WoE   \n",
       "12                              LGBM  Robust            WoE   \n",
       "\n",
       "    roc_auc score mean  roc_auc score std  \n",
       "0               0.8313             0.0041  \n",
       "1               0.8318             0.0040  \n",
       "2               0.8313             0.0041  \n",
       "3               0.8538             0.0024  \n",
       "4               0.8317             0.0040  \n",
       "5               0.7864             0.0089  \n",
       "6               0.8345             0.0045  \n",
       "7               0.9193             0.0022  \n",
       "8               0.9243             0.0023  \n",
       "9               0.9242             0.0020  \n",
       "10              0.8407             0.0035  \n",
       "11              0.8852             0.0024  \n",
       "12              0.8973             0.0025  "
      ]
     },
     "execution_count": 106,
     "metadata": {},
     "output_type": "execute_result"
    }
   ],
   "source": [
    "df_results"
   ]
  },
  {
   "cell_type": "markdown",
   "metadata": {},
   "source": [
    "According to our results dataframe, the better results for this binary problem is obtained with Random Forest Classifier with grid search. But some results need to play around it. We can do more parameter tuning and can find with LGBM or XGBoost maybe. But this is enough good for us for this step. Because the main problem is to build model with 3-class target. This all notebook gave idea us about what must be our steps for 3-class target. "
   ]
  },
  {
   "cell_type": "markdown",
   "metadata": {},
   "source": [
    "# Best Decided Model for Binary Target"
   ]
  },
  {
   "cell_type": "code",
   "execution_count": 108,
   "metadata": {},
   "outputs": [
    {
     "name": "stdout",
     "output_type": "stream",
     "text": [
      "Accuracy:\n",
      "=========\n",
      "TRAIN: 0.9518728956228957\n",
      "TEST: 0.8602693602693603\n",
      "\n",
      "Balanced Accuracy:\n",
      "==================\n",
      "TRAIN: 0.947773503869161\n",
      "TEST: 0.8470385167371319\n"
     ]
    },
    {
     "data": {
      "image/png": "[encoded data removed]",
      "text/plain": [
       "<Figure size 432x288 with 1 Axes>"
      ]
     },
     "metadata": {
      "needs_background": "light"
     },
     "output_type": "display_data"
    }
   ],
   "source": [
    "rf = RandomForestClassifier(n_estimators=100, random_state=42, n_jobs=-1,class_weight='balanced',\n",
    "                            criterion = 'entropy',max_features = 'sqrt',min_samples_split = 10)\n",
    " \n",
    "pipe = make_pipeline(preprocessor,rf)\n",
    "pipe.fit(X_train, y_train)\n",
    "\n",
    "# predictions on train set\n",
    "y_pred = pipe.predict(X_train)\n",
    "\n",
    "# predictions on test set\n",
    "y_pred_test = pipe.predict(X_test)\n",
    "\n",
    "print(\"Accuracy:\"); print(\"=\"*len(\"Accuracy:\"))\n",
    "print(f\"TRAIN: {accuracy_score(y_train, y_pred)}\")\n",
    "print(f\"TEST: {accuracy_score(y_test, y_pred_test)}\")\n",
    "\n",
    "print(\"\\nBalanced Accuracy:\"); print(\"=\"*len(\"Balanced Accuracy:\"))\n",
    "print(f\"TRAIN: {balanced_accuracy_score(y_train, y_pred)}\")\n",
    "print(f\"TEST: {balanced_accuracy_score(y_test, y_pred_test)}\")\n",
    "\n",
    "#confusion matrix\n",
    "cm = confusion_matrix(y_test, y_pred_test)\n",
    "plot_confusion_matrix(cm)\n",
    "plt.show()"
   ]
  },
  {
   "cell_type": "markdown",
   "metadata": {},
   "source": [
    "After decided the model according to roc-auc scores. We looked our balanced accuracy for test set. Because the metric for competition is balanced accuracy. It is overfit, but still giving good test balanced accurancy results. So, we choose this model. LGBM is not over fit and giving near results to this model. These are two good models in this notebook. According to confusion matrix on test data, there is no exact split but it is shown that we will care about 962 points which is already predicted as functional but normally they are non-functional. Also, 698 points are predicted as non-functional but they are functional. With the learnings from binary model, we will continue to 3-class target model."
   ]
  }
 ],
 "metadata": {
  "kernelspec": {
   "display_name": "Python 3",
   "language": "python",
   "name": "python3"
  },
  "language_info": {
   "codemirror_mode": {
    "name": "ipython",
    "version": 3
   },
   "file_extension": ".py",
   "mimetype": "text/x-python",
   "name": "python",
   "nbconvert_exporter": "python",
   "pygments_lexer": "ipython3",
   "version": "3.6.9"
  }
 },
 "nbformat": 4,
 "nbformat_minor": 2
}
